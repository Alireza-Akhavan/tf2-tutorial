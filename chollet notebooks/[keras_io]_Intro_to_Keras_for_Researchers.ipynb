{
  "nbformat": 4,
  "nbformat_minor": 0,
  "metadata": {
    "colab": {
      "name": "[keras.io] Intro to Keras for Researchers.ipynb",
      "provenance": [],
      "collapsed_sections": []
    },
    "kernelspec": {
      "name": "python3",
      "display_name": "Python 3"
    }
  },
  "cells": [
    {
      "cell_type": "markdown",
      "metadata": {
        "id": "s7bPeUh9ittG",
        "colab_type": "text"
      },
      "source": [
        "Everything you need to know to use Keras & TF 2.0 for deep learning research."
      ]
    },
    {
      "cell_type": "markdown",
      "metadata": {
        "id": "4EhxrilyirSK",
        "colab_type": "text"
      },
      "source": [
        "## Setup"
      ]
    },
    {
      "cell_type": "code",
      "metadata": {
        "id": "6JN0_zUyjDQK",
        "colab_type": "code",
        "colab": {}
      },
      "source": [
        "import tensorflow as tf\n",
        "from tensorflow import keras"
      ],
      "execution_count": 0,
      "outputs": []
    },
    {
      "cell_type": "markdown",
      "metadata": {
        "id": "sxVQuAYKbmGn",
        "colab_type": "text"
      },
      "source": [
        "## Introduction\n",
        "\n",
        "Are you a machine learning researcher? Do you publish at NeurIPS and push the state-of-the-art in CV and NLP? This guide will serve as your first introduction to core Keras API concepts.\n",
        "\n",
        "In this guide, you will learn about:\n",
        "\n",
        "- Creating layers by subclassing the `Layer` class\n",
        "- Computing gradients with a `GradientTape` and writing low-level training loops\n",
        "- Tracking losses created by layers via the `add_loss()` method\n",
        "- Tracking metrics in a low-level training loop\n",
        "- Speeding up execution with a compiled `tf.function`\n",
        "- Executing layers in training or inference mode\n",
        "- The Keras Functional API\n",
        "\n",
        "You will also see the Keras API in action in two end-to-end research examples:\n",
        "a Variational Autoencoder, an a Hypernetwork."
      ]
    },
    {
      "cell_type": "markdown",
      "metadata": {
        "id": "C_2FyZeXjHd1",
        "colab_type": "text"
      },
      "source": [
        "## The `Layer` class\n",
        "\n",
        "The `Layer` is the fundamental abstraction in Keras.\n",
        "A `Layer` encapsulates a state (weights) and some computation\n",
        "(defined in the call method).\n",
        "\n",
        "A simple layer looks like this:"
      ]
    },
    {
      "cell_type": "code",
      "metadata": {
        "id": "NbF--uLHjGZs",
        "colab_type": "code",
        "colab": {}
      },
      "source": [
        "class Linear(keras.layers.Layer):\n",
        "  \"\"\"y = w.x + b\"\"\"\n",
        "\n",
        "  def __init__(self, units=32, input_dim=32):\n",
        "      super(Linear, self).__init__()\n",
        "      w_init = tf.random_normal_initializer()\n",
        "      self.w = tf.Variable(\n",
        "          initial_value=w_init(shape=(input_dim, units), dtype='float32'),\n",
        "          trainable=True)\n",
        "      b_init = tf.zeros_initializer()\n",
        "      self.b = tf.Variable(\n",
        "          initial_value=b_init(shape=(units,), dtype='float32'),\n",
        "          trainable=True)\n",
        "\n",
        "  def call(self, inputs):\n",
        "      return tf.matmul(inputs, self.w) + self.b"
      ],
      "execution_count": 0,
      "outputs": []
    },
    {
      "cell_type": "markdown",
      "metadata": {
        "id": "0uCecIDojdVh",
        "colab_type": "text"
      },
      "source": [
        "You would use a `Layer` instance much like a Python function:"
      ]
    },
    {
      "cell_type": "code",
      "metadata": {
        "id": "CRfXRXU4jlx0",
        "colab_type": "code",
        "colab": {}
      },
      "source": [
        "# Instantiate our layer.\n",
        "linear_layer = Linear(units=4, input_dim=2)\n",
        "\n",
        "# The layer can be treated as a function.\n",
        "# Here we call it on some data.\n",
        "y = linear_layer(tf.ones((2, 2)))\n",
        "assert y.shape == (2, 4)"
      ],
      "execution_count": 0,
      "outputs": []
    },
    {
      "cell_type": "markdown",
      "metadata": {
        "id": "KiqISg0Bjqyf",
        "colab_type": "text"
      },
      "source": [
        "The weight variables (created in `__init__`) are automatically\n",
        "tracked under the `weights` property:"
      ]
    },
    {
      "cell_type": "code",
      "metadata": {
        "id": "NzsM5Q_LjvRZ",
        "colab_type": "code",
        "colab": {}
      },
      "source": [
        "assert linear_layer.weights == [linear_layer.w, linear_layer.b]"
      ],
      "execution_count": 0,
      "outputs": []
    },
    {
      "cell_type": "markdown",
      "metadata": {
        "id": "zT05IPC9-jlw",
        "colab_type": "text"
      },
      "source": [
        "You have many built-in layers available, from `Dense` to `Conv2D` to `LSTM` to\n",
        "fancier ones like `Conv3DTranspose` or `ConvLSTM2D`. Be smart about reusing \n",
        "built-in functionality."
      ]
    },
    {
      "cell_type": "markdown",
      "metadata": {
        "id": "hfEQFw8FlZUT",
        "colab_type": "text"
      },
      "source": [
        "## Weight creation\n",
        "\n",
        "The add_weight method gives you a shortcut for creating weights:"
      ]
    },
    {
      "cell_type": "code",
      "metadata": {
        "id": "6ZLzApotj0sS",
        "colab_type": "code",
        "colab": {}
      },
      "source": [
        "class Linear(keras.layers.Layer):\n",
        "  \"\"\"y = w.x + b\"\"\"\n",
        "\n",
        "  def __init__(self, units=32):\n",
        "      super(Linear, self).__init__()\n",
        "      self.units = units\n",
        "\n",
        "  def build(self, input_shape):\n",
        "      self.w = self.add_weight(shape=(input_shape[-1], self.units),\n",
        "                               initializer='random_normal',\n",
        "                               trainable=True)\n",
        "      self.b = self.add_weight(shape=(self.units,),\n",
        "                               initializer='random_normal',\n",
        "                               trainable=True)\n",
        "\n",
        "  def call(self, inputs):\n",
        "      return tf.matmul(inputs, self.w) + self.b\n",
        "\n",
        "\n",
        "# Instantiate our lazy layer.\n",
        "linear_layer = Linear(4)\n",
        "\n",
        "# This will also call `build(input_shape)` and create the weights.\n",
        "y = linear_layer(tf.ones((2, 2)))"
      ],
      "execution_count": 0,
      "outputs": []
    },
    {
      "cell_type": "markdown",
      "metadata": {
        "id": "Ggvk047G8tcm",
        "colab_type": "text"
      },
      "source": [
        "## Gradients\n",
        "\n",
        "You can automatically retrieve the gradients of the weights of a layer by \n",
        "calling it inside a `GradientTape`. Using these gradients, you can update the \n",
        "weights of the layer, either manually, or using an optimizer object. Of course,\n",
        "you can modify the gradients before using them, if you need to."
      ]
    },
    {
      "cell_type": "code",
      "metadata": {
        "id": "4UhlbaBjl6PT",
        "colab_type": "code",
        "outputId": "10a00b84-7082-488a-8810-6bae7572f9b3",
        "colab": {
          "base_uri": "https://localhost:8080/",
          "height": 221
        }
      },
      "source": [
        "# Prepare a dataset.\n",
        "(x_train, y_train), _ = tf.keras.datasets.mnist.load_data()\n",
        "dataset = tf.data.Dataset.from_tensor_slices(\n",
        "    (x_train.reshape(60000, 784).astype('float32') / 255, y_train))\n",
        "dataset = dataset.shuffle(buffer_size=1024).batch(64)\n",
        "\n",
        "# Instantiate our linear layer (defined above) with 10 units.\n",
        "linear_layer = Linear(10)\n",
        "\n",
        "# Instantiate a logistic loss function that expects integer targets.\n",
        "loss_fn = tf.keras.losses.SparseCategoricalCrossentropy(from_logits=True)\n",
        "\n",
        "# Instantiate an optimizer.\n",
        "optimizer = tf.keras.optimizers.SGD(learning_rate=1e-3)\n",
        "\n",
        "# Iterate over the batches of the dataset.\n",
        "for step, (x, y) in enumerate(dataset):\n",
        "  \n",
        "  # Open a GradientTape.\n",
        "  with tf.GradientTape() as tape:\n",
        "\n",
        "    # Forward pass.\n",
        "    logits = linear_layer(x)\n",
        "\n",
        "    # Loss value for this batch.\n",
        "    loss = loss_fn(y, logits)\n",
        "     \n",
        "  # Get gradients of weights wrt the loss.\n",
        "  gradients = tape.gradient(loss, linear_layer.trainable_weights)\n",
        "  \n",
        "  # Update the weights of our linear layer.\n",
        "  optimizer.apply_gradients(zip(gradients, linear_layer.trainable_weights))\n",
        "  \n",
        "  # Logging.\n",
        "  if step % 100 == 0:\n",
        "    print('Step:', step, 'Loss:', float(loss))"
      ],
      "execution_count": 0,
      "outputs": [
        {
          "output_type": "stream",
          "text": [
            "Downloading data from https://storage.googleapis.com/tensorflow/tf-keras-datasets/mnist.npz\n",
            "11493376/11490434 [==============================] - 0s 0us/step\n",
            "Step: 0 Loss: 2.389693260192871\n",
            "Step: 100 Loss: 2.2880043983459473\n",
            "Step: 200 Loss: 2.116948127746582\n",
            "Step: 300 Loss: 2.166616916656494\n",
            "Step: 400 Loss: 2.0458531379699707\n",
            "Step: 500 Loss: 1.916129469871521\n",
            "Step: 600 Loss: 1.8096897602081299\n",
            "Step: 700 Loss: 1.733697772026062\n",
            "Step: 800 Loss: 1.7557425498962402\n",
            "Step: 900 Loss: 1.6987833976745605\n"
          ],
          "name": "stdout"
        }
      ]
    },
    {
      "cell_type": "markdown",
      "metadata": {
        "id": "Dv6mModq88xR",
        "colab_type": "text"
      },
      "source": [
        "## Trainable and non-trainable weights\n",
        "\n",
        "Weights created by layers can be either trainable or non-trainable. They're \n",
        "exposed in `trainable_weights` and `non_trainable_weights` respectively.\n",
        "Here's a layer with a non-trainable weight:"
      ]
    },
    {
      "cell_type": "code",
      "metadata": {
        "id": "4T2NXVLa9Cld",
        "colab_type": "code",
        "outputId": "5004aa38-f720-4a29-c911-6de127c228d7",
        "colab": {
          "base_uri": "https://localhost:8080/",
          "height": 51
        }
      },
      "source": [
        "class ComputeSum(keras.layers.Layer):\n",
        "  \"\"\"Returns the sum of the inputs.\"\"\"\n",
        "\n",
        "  def __init__(self, input_dim):\n",
        "      super(ComputeSum, self).__init__()\n",
        "      # Create a non-trainable weight.\n",
        "      self.total = tf.Variable(initial_value=tf.zeros((input_dim,)),\n",
        "                               trainable=False)\n",
        "\n",
        "  def call(self, inputs):\n",
        "      self.total.assign_add(tf.reduce_sum(inputs, axis=0))\n",
        "      return self.total  \n",
        "\n",
        "my_sum = ComputeSum(2)\n",
        "x = tf.ones((2, 2))\n",
        "\n",
        "y = my_sum(x)\n",
        "print(y.numpy())  # [2. 2.]\n",
        "\n",
        "y = my_sum(x)\n",
        "print(y.numpy())  # [4. 4.]\n",
        "\n",
        "assert my_sum.weights == [my_sum.total]\n",
        "assert my_sum.non_trainable_weights == [my_sum.total]\n",
        "assert my_sum.trainable_weights == []"
      ],
      "execution_count": 0,
      "outputs": [
        {
          "output_type": "stream",
          "text": [
            "[2. 2.]\n",
            "[4. 4.]\n"
          ],
          "name": "stdout"
        }
      ]
    },
    {
      "cell_type": "markdown",
      "metadata": {
        "id": "fgmMDsBZ9L1U",
        "colab_type": "text"
      },
      "source": [
        "## Layers that own layers\n",
        "\n",
        "Layers can be recursively nested to create bigger computation blocks.\n",
        "Each layer will track the weights of its sublayers\n",
        "(both trainable and non-trainable)."
      ]
    },
    {
      "cell_type": "code",
      "metadata": {
        "id": "70YZILIH84D8",
        "colab_type": "code",
        "colab": {}
      },
      "source": [
        "# Let's reuse the Linear class\n",
        "# with a `build` method that we defined above.\n",
        "\n",
        "class MLP(keras.layers.Layer):\n",
        "    \"\"\"Simple stack of Linear layers.\"\"\"\n",
        "\n",
        "    def __init__(self):\n",
        "        super(MLP, self).__init__()\n",
        "        self.linear_1 = Linear(32)\n",
        "        self.linear_2 = Linear(32)\n",
        "        self.linear_3 = Linear(10)\n",
        "\n",
        "    def call(self, inputs):\n",
        "        x = self.linear_1(inputs)\n",
        "        x = tf.nn.relu(x)\n",
        "        x = self.linear_2(x)\n",
        "        x = tf.nn.relu(x)\n",
        "        return self.linear_3(x)\n",
        "\n",
        "mlp = MLP()\n",
        "\n",
        "# The first call to the `mlp` object will create the weights.\n",
        "y = mlp(tf.ones(shape=(3, 64)))\n",
        "\n",
        "# Weights are recursively tracked.\n",
        "assert len(mlp.weights) == 6"
      ],
      "execution_count": 0,
      "outputs": []
    },
    {
      "cell_type": "markdown",
      "metadata": {
        "id": "39r2dQK0C5K9",
        "colab_type": "text"
      },
      "source": [
        "Note that our manually-created MLP above is equivalent to the following\n",
        "built-in option:"
      ]
    },
    {
      "cell_type": "code",
      "metadata": {
        "id": "J3KmGU59DAD5",
        "colab_type": "code",
        "colab": {}
      },
      "source": [
        "mlp = keras.Sequential([keras.layers.Dense(32, activation=tf.nn.relu),\n",
        "                        keras.layers.Dense(32, activation=tf.nn.relu),\n",
        "                        keras.layers.Dense(10)])"
      ],
      "execution_count": 0,
      "outputs": []
    },
    {
      "cell_type": "markdown",
      "metadata": {
        "id": "g8dnb_JK9XXF",
        "colab_type": "text"
      },
      "source": [
        "## Tracking losses created by layers\n",
        "\n",
        "Layers can create losses during the forward pass via the `add_loss()` method.\n",
        "This is especially useful for regularization losses.\n",
        "The losses created by sublayers are recursively tracked by the parent layers.\n",
        "\n",
        "Here's a layer that creates an activity regularization loss:"
      ]
    },
    {
      "cell_type": "code",
      "metadata": {
        "id": "VzZD8dI69a4O",
        "colab_type": "code",
        "colab": {}
      },
      "source": [
        "class ActivityRegularization(keras.layers.Layer):\n",
        "  \"\"\"Layer that creates an activity sparsity regularization loss.\"\"\"\n",
        "  \n",
        "  def __init__(self, rate=1e-2):\n",
        "    super(ActivityRegularization, self).__init__()\n",
        "    self.rate = rate\n",
        "  \n",
        "  def call(self, inputs):\n",
        "    # We use `add_loss` to create a regularization loss\n",
        "    # that depends on the inputs.\n",
        "    self.add_loss(self.rate * tf.reduce_sum(inputs))\n",
        "    return inputs"
      ],
      "execution_count": 0,
      "outputs": []
    },
    {
      "cell_type": "markdown",
      "metadata": {
        "id": "9fnW31HV9q7T",
        "colab_type": "text"
      },
      "source": [
        "Any model incorporating this layer will track this regularization loss:"
      ]
    },
    {
      "cell_type": "code",
      "metadata": {
        "id": "B4jBouQP9SWe",
        "colab_type": "code",
        "outputId": "545fd1d2-e044-4bb7-dbe5-a4d78b32955c",
        "colab": {
          "base_uri": "https://localhost:8080/",
          "height": 34
        }
      },
      "source": [
        "# Let's use the loss layer in a MLP block.\n",
        "\n",
        "class SparseMLP(keras.layers.Layer):\n",
        "  \"\"\"Stack of Linear layers with a sparsity regularization loss.\"\"\"\n",
        "\n",
        "  def __init__(self):\n",
        "      super(SparseMLP, self).__init__()\n",
        "      self.linear_1 = Linear(32)\n",
        "      self.regularization = ActivityRegularization(1e-2)\n",
        "      self.linear_3 = Linear(10)\n",
        "\n",
        "  def call(self, inputs):\n",
        "      x = self.linear_1(inputs)\n",
        "      x = tf.nn.relu(x)\n",
        "      x = self.regularization(x)\n",
        "      return self.linear_3(x)\n",
        "    \n",
        "\n",
        "mlp = SparseMLP()\n",
        "y = mlp(tf.ones((10, 10)))\n",
        "\n",
        "print(mlp.losses)  # List containing one float32 scalar"
      ],
      "execution_count": 0,
      "outputs": [
        {
          "output_type": "stream",
          "text": [
            "[<tf.Tensor: shape=(), dtype=float32, numpy=0.15567721>]\n"
          ],
          "name": "stdout"
        }
      ]
    },
    {
      "cell_type": "markdown",
      "metadata": {
        "id": "dWg4qXEc98Xl",
        "colab_type": "text"
      },
      "source": [
        "These losses are cleared by the top-level layer at the start of each forward\n",
        "pass -- they don't accumulate. `layer.losses` always contains only the losses \n",
        "created during the last forward pass. You would typically use these losses by \n",
        "summing them before computing your gradients when writing a training loop.\n"
      ]
    },
    {
      "cell_type": "code",
      "metadata": {
        "id": "dY81Cn9996aY",
        "colab_type": "code",
        "outputId": "dca6e387-cfc4-4e51-c76d-3bf9a47e07d6",
        "colab": {
          "base_uri": "https://localhost:8080/",
          "height": 187
        }
      },
      "source": [
        "# Losses correspond to the *last* forward pass.\n",
        "mlp = SparseMLP()\n",
        "mlp(tf.ones((10, 10)))\n",
        "assert len(mlp.losses) == 1\n",
        "mlp(tf.ones((10, 10)))\n",
        "assert len(mlp.losses) == 1  # No accumulation.\n",
        "\n",
        "# Let's demonstrate how to use these losses in a training loop.\n",
        "\n",
        "# Prepare a dataset.\n",
        "(x_train, y_train), _ = tf.keras.datasets.mnist.load_data()\n",
        "dataset = tf.data.Dataset.from_tensor_slices(\n",
        "    (x_train.reshape(60000, 784).astype('float32') / 255, y_train))\n",
        "dataset = dataset.shuffle(buffer_size=1024).batch(64)\n",
        "\n",
        "# A new MLP.\n",
        "mlp = SparseMLP()\n",
        "\n",
        "# Loss and optimizer.\n",
        "loss_fn = tf.keras.losses.SparseCategoricalCrossentropy(from_logits=True)\n",
        "optimizer = tf.keras.optimizers.SGD(learning_rate=1e-3)\n",
        "\n",
        "for step, (x, y) in enumerate(dataset):\n",
        "  with tf.GradientTape() as tape:\n",
        "\n",
        "    # Forward pass.\n",
        "    logits = mlp(x)\n",
        "\n",
        "    # External loss value for this batch.\n",
        "    loss = loss_fn(y, logits)\n",
        "    \n",
        "    # Add the losses created during the forward pass.\n",
        "    loss += sum(mlp.losses)\n",
        "     \n",
        "    # Get gradients of weights wrt the loss.\n",
        "    gradients = tape.gradient(loss, mlp.trainable_weights)\n",
        "  \n",
        "  # Update the weights of our linear layer.\n",
        "  optimizer.apply_gradients(zip(gradients, mlp.trainable_weights))\n",
        "  \n",
        "  # Logging.\n",
        "  if step % 100 == 0:\n",
        "    print('Step:', step, 'Loss:', float(loss))"
      ],
      "execution_count": 0,
      "outputs": [
        {
          "output_type": "stream",
          "text": [
            "Step: 0 Loss: 5.036585807800293\n",
            "Step: 100 Loss: 2.605344772338867\n",
            "Step: 200 Loss: 2.422980785369873\n",
            "Step: 300 Loss: 2.353158950805664\n",
            "Step: 400 Loss: 2.3419694900512695\n",
            "Step: 500 Loss: 2.3355984687805176\n",
            "Step: 600 Loss: 2.3357229232788086\n",
            "Step: 700 Loss: 2.325115203857422\n",
            "Step: 800 Loss: 2.3236711025238037\n",
            "Step: 900 Loss: 2.325429677963257\n"
          ],
          "name": "stdout"
        }
      ]
    },
    {
      "cell_type": "markdown",
      "metadata": {
        "id": "Nm6mM7Cr-6d8",
        "colab_type": "text"
      },
      "source": [
        "## Keeping track of training metrics\n",
        "\n",
        "Keras offers a broad range of built-in metrics, like `tf.keras.metrics.AUC`\n",
        "or `tf.keras.metrics.PrecisionAtRecall`. It's also easy to create your\n",
        "own metrics in a few lines of code.\n",
        "\n",
        "To use a metric in a custom training loop, you would:\n",
        "\n",
        "- Instantiate the metric object, e.g. `metric = tf.keras.metrics.AUC()`\n",
        "- Call its `metric.udpate_state(targets, predictions)` method for each batch of data\n",
        "- Query its result via `metric.result()`\n",
        "- Reset the metric's state at the end of an epoch or at the start of an evaluation via `metric.reset_states()`\n",
        "\n",
        "Here's a simple example:"
      ]
    },
    {
      "cell_type": "code",
      "metadata": {
        "id": "y25uEHio_k6i",
        "colab_type": "code",
        "outputId": "61be908d-447f-4389-de11-ac30e30b773f",
        "colab": {
          "base_uri": "https://localhost:8080/",
          "height": 357
        }
      },
      "source": [
        "# Instantiate a metric object\n",
        "accuracy = tf.keras.metrics.SparseCategoricalAccuracy()\n",
        "\n",
        "# Prepare our layer, loss, and optimizer.\n",
        "model = keras.Sequential([keras.layers.Dense(32, activation='relu'),\n",
        "                          keras.layers.Dense(32, activation='relu'),\n",
        "                          keras.layers.Dense(10)])\n",
        "loss_fn = tf.keras.losses.SparseCategoricalCrossentropy(from_logits=True)\n",
        "optimizer = tf.keras.optimizers.Adam(learning_rate=1e-3)\n",
        "\n",
        "for epoch in range(2):\n",
        "    # Iterate over the batches of a dataset.\n",
        "    for step, (x, y) in enumerate(dataset):\n",
        "        with tf.GradientTape() as tape:\n",
        "            logits = model(x)\n",
        "            # Compute the loss value for this batch.\n",
        "            loss_value = loss_fn(y, logits)\n",
        "\n",
        "        # Update the state of the `accuracy` metric.\n",
        "        accuracy.update_state(y, logits)\n",
        "\n",
        "        # Update the weights of the model to minimize the loss value.\n",
        "        gradients = tape.gradient(loss_value, model.trainable_weights)\n",
        "        optimizer.apply_gradients(zip(gradients, model.trainable_weights))\n",
        "\n",
        "        # Logging the current accuracy value so far.\n",
        "        if step % 200 == 0:\n",
        "            print('Epoch:', epoch, 'Step:', step)        \n",
        "            print('Total running accuracy so far: %.3f' % accuracy.result())\n",
        "\n",
        "    # Result the metric's state at the end of an epoch\n",
        "    accuracy.reset_states()"
      ],
      "execution_count": 0,
      "outputs": [
        {
          "output_type": "stream",
          "text": [
            "Epoch: 0 Step: 0\n",
            "Total running accuracy so far: 0.094\n",
            "Epoch: 0 Step: 200\n",
            "Total running accuracy so far: 0.788\n",
            "Epoch: 0 Step: 400\n",
            "Total running accuracy so far: 0.849\n",
            "Epoch: 0 Step: 600\n",
            "Total running accuracy so far: 0.872\n",
            "Epoch: 0 Step: 800\n",
            "Total running accuracy so far: 0.885\n",
            "Epoch: 1 Step: 0\n",
            "Total running accuracy so far: 0.891\n",
            "Epoch: 1 Step: 200\n",
            "Total running accuracy so far: 0.941\n",
            "Epoch: 1 Step: 400\n",
            "Total running accuracy so far: 0.943\n",
            "Epoch: 1 Step: 600\n",
            "Total running accuracy so far: 0.944\n",
            "Epoch: 1 Step: 800\n",
            "Total running accuracy so far: 0.945\n"
          ],
          "name": "stdout"
        }
      ]
    },
    {
      "cell_type": "markdown",
      "metadata": {
        "id": "gqgYN5qVAEOj",
        "colab_type": "text"
      },
      "source": [
        "In addition to this, similarly to the `self.add_loss()` method, you have access\n",
        "to an `self.add_metric()` method on layers. It tracks the average of\n",
        "whatever quantity you pass to it. You can reset the value of these metrics\n",
        "by calling `layer.reset_metrics()` on any layer or model."
      ]
    },
    {
      "cell_type": "markdown",
      "metadata": {
        "id": "6z450Zth-Hs1",
        "colab_type": "text"
      },
      "source": [
        "## Compiled functions\n",
        "\n",
        "Running eagerly is great for debugging, but you will get better performance by \n",
        "compiling your computation into static graphs. Static graphs are a researcher's \n",
        "best friends. You can compile any function by wrapping it in a `tf.function`\n",
        "decorator."
      ]
    },
    {
      "cell_type": "code",
      "metadata": {
        "id": "3Y52ENhp-D_z",
        "colab_type": "code",
        "outputId": "fba7f5ca-68cf-4bb8-e515-a0c98045afbb",
        "colab": {
          "base_uri": "https://localhost:8080/",
          "height": 187
        }
      },
      "source": [
        "# Prepare our layer, loss, and optimizer.\n",
        "model = keras.Sequential([keras.layers.Dense(32, activation='relu'),\n",
        "                          keras.layers.Dense(32, activation='relu'),\n",
        "                          keras.layers.Dense(10)])\n",
        "loss_fn = tf.keras.losses.SparseCategoricalCrossentropy(from_logits=True)\n",
        "optimizer = tf.keras.optimizers.Adam(learning_rate=1e-3)\n",
        "\n",
        "# Create a training step function.\n",
        "\n",
        "@tf.function  # Make it fast.\n",
        "def train_on_batch(x, y):\n",
        "  with tf.GradientTape() as tape:\n",
        "    logits = model(x)\n",
        "    loss = loss_fn(y, logits)\n",
        "    gradients = tape.gradient(loss, model.trainable_weights)\n",
        "  optimizer.apply_gradients(zip(gradients, model.trainable_weights))\n",
        "  return loss\n",
        "\n",
        "# Prepare a dataset.\n",
        "(x_train, y_train), _ = tf.keras.datasets.mnist.load_data()\n",
        "dataset = tf.data.Dataset.from_tensor_slices(\n",
        "    (x_train.reshape(60000, 784).astype('float32') / 255, y_train))\n",
        "dataset = dataset.shuffle(buffer_size=1024).batch(64)\n",
        "\n",
        "for step, (x, y) in enumerate(dataset):\n",
        "  loss = train_on_batch(x, y)\n",
        "  if step % 100 == 0:\n",
        "    print('Step:', step, 'Loss:', float(loss))"
      ],
      "execution_count": 0,
      "outputs": [
        {
          "output_type": "stream",
          "text": [
            "Step: 0 Loss: 2.3173694610595703\n",
            "Step: 100 Loss: 0.4784049093723297\n",
            "Step: 200 Loss: 0.47889965772628784\n",
            "Step: 300 Loss: 0.5031989812850952\n",
            "Step: 400 Loss: 0.2031257450580597\n",
            "Step: 500 Loss: 0.21575142443180084\n",
            "Step: 600 Loss: 0.2780623435974121\n",
            "Step: 700 Loss: 0.1391499936580658\n",
            "Step: 800 Loss: 0.26961737871170044\n",
            "Step: 900 Loss: 0.27523142099380493\n"
          ],
          "name": "stdout"
        }
      ]
    },
    {
      "cell_type": "markdown",
      "metadata": {
        "id": "Eup8p-PB-RIa",
        "colab_type": "text"
      },
      "source": [
        "## Training mode & inference mode\n",
        "\n",
        "Some layers, in particular the `BatchNormalization` layer and the `Dropout`\n",
        "layer, have different behaviors during training and inference. For such layers, \n",
        "it is standard practice to expose a `training` (boolean) argument in the `call` \n",
        "method.\n",
        "\n",
        "By exposing this argument in `call`, you enable the built-in training and \n",
        "evaluation loops (e.g. fit) to correctly use the layer in training and \n",
        "inference modes."
      ]
    },
    {
      "cell_type": "code",
      "metadata": {
        "id": "SUU17NH2-NkN",
        "colab_type": "code",
        "colab": {}
      },
      "source": [
        "class Dropout(keras.layers.Layer):\n",
        "  \n",
        "  def __init__(self, rate):\n",
        "    super(Dropout, self).__init__()\n",
        "    self.rate = rate\n",
        "\n",
        "  def call(self, inputs, training=None):\n",
        "    if training:\n",
        "      return tf.nn.dropout(inputs, rate=self.rate)\n",
        "    return inputs\n",
        "  \n",
        "\n",
        "class MLPWithDropout(keras.layers.Layer):\n",
        "\n",
        "  def __init__(self):\n",
        "      super(MLPWithDropout, self).__init__()\n",
        "      self.linear_1 = Linear(32)\n",
        "      self.dropout = Dropout(0.5)\n",
        "      self.linear_3 = Linear(10)\n",
        "\n",
        "  def call(self, inputs, training=None):\n",
        "      x = self.linear_1(inputs)\n",
        "      x = tf.nn.relu(x)\n",
        "      x = self.dropout(x, training=training)\n",
        "      return self.linear_3(x)\n",
        "    \n",
        "mlp = MLPWithDropout()\n",
        "y_train = mlp(tf.ones((2, 2)), training=True)\n",
        "y_test = mlp(tf.ones((2, 2)), training=False)"
      ],
      "execution_count": 0,
      "outputs": []
    },
    {
      "cell_type": "markdown",
      "metadata": {
        "id": "X6W0MYAZ-gcr",
        "colab_type": "text"
      },
      "source": [
        "## The Functional API for model-building\n",
        "\n",
        "To build deep learning models, you don't have to use object-oriented programming all the time. All layers we've seen so far can also be composed functionally, like this (we call it the \"Functional API\"):"
      ]
    },
    {
      "cell_type": "code",
      "metadata": {
        "id": "u--PrPJmDkxZ",
        "colab_type": "code",
        "colab": {}
      },
      "source": [
        "# We use an `Input` object to describe the shape and dtype of the inputs.\n",
        "# This is the deep learning equivalent of *declaring a type*.\n",
        "# The shape argument is per-sample; it does not include the batch size.\n",
        "# The functional API focused on defining per-sample transformations.\n",
        "# The model we create will automatically batch the per-sample transformations,\n",
        "# so that it can be called on batches of data.\n",
        "inputs = tf.keras.Input(shape=(16,), dtype='float32')\n",
        "\n",
        "# We call layers on these \"type\" objects\n",
        "# and they return updated types (new shapes/dtypes).\n",
        "x = Linear(32)(inputs) # We are reusing the Linear layer we defined earlier.\n",
        "x = Dropout(0.5)(x) # We are reusing the Dropout layer we defined earlier.\n",
        "outputs = Linear(10)(x)\n",
        "\n",
        "# A functional `Model` can be defined by specifying inputs and outputs.\n",
        "# A model is itself a layer like any other.\n",
        "model = tf.keras.Model(inputs, outputs)\n",
        "\n",
        "# A functional model already has weights, before being called on any data.\n",
        "# That's because we defined its input shape in advance (in `Input`).\n",
        "assert len(model.weights) == 4\n",
        "\n",
        "# Let's call our model on some data, for fun.\n",
        "y = model(tf.ones((2, 16)))\n",
        "assert y.shape == (2, 10)\n",
        "\n",
        "# You can pass a `training` argument in `__call__`\n",
        "# (it will get passed down to the Dropout layer).\n",
        "y = model(tf.ones((2, 16)), training=True)"
      ],
      "execution_count": 0,
      "outputs": []
    },
    {
      "cell_type": "markdown",
      "metadata": {
        "id": "x8Ia2rc0Dmii",
        "colab_type": "text"
      },
      "source": [
        "The Functional API tends to be more concise than subclassing, and provides a few other advantages (generally the same advantages that functional, typed languages provide over untyped OO development). However, it can only be used to define DAGs of layers -- recursive networks should be defined as Layer subclasses instead.\n",
        "\n",
        "Learn more about the Functional API [here](/guides/functional_api/).\n",
        "\n",
        "In your research workflows, you may often find yourself mix-and-matching OO models and Functional models.\n",
        "\n",
        "Note that the `Model` class also features built-in training & evaluation loops\n",
        "(`fit()` and `evaluate()`). You can always subclass the `Model` class\n",
        "(it works exactly like subclassing `Layer`) if you want to leverage these loops\n",
        "for your OO models."
      ]
    },
    {
      "cell_type": "markdown",
      "metadata": {
        "id": "IP9Yl9K5kodu",
        "colab_type": "text"
      },
      "source": [
        "## End-to-end experiment example 1: variational autoencoders.\n",
        "\n",
        "Here are some of things you've learned so far:\n",
        "\n",
        "- A `Layer` encapsulate a state (created in `__init__` or `build`) and some computation (defined in `call`).\n",
        "- Layers can be recursively nested to create new, bigger computation blocks.\n",
        "- You can easily write highly hackable training loops by opening a\n",
        "`GradientTape`, calling your model inside the tape's scope, then retrieving\n",
        "gradients and applying them via an optimizer.\n",
        "- You can speed up your training loops using the `@tf.function` decorator.\n",
        "- Layers can create and track losses (typically regularization losses) via\n",
        "`self.add_loss()`.\n",
        "\n",
        "Let's put all of these things together into an end-to-end example: we're going to implement a Variational AutoEncoder (VAE). We'll train it on MNIST digits.\n",
        "\n",
        "Our VAE will be a subclass of `Layer`, built as a nested composition of layers that subclass `Layer`. It will feature a regularization loss (KL divergence)."
      ]
    },
    {
      "cell_type": "markdown",
      "metadata": {
        "id": "TZYAJfyGkzKv",
        "colab_type": "text"
      },
      "source": [
        "Below is our model definition.\n",
        "\n",
        "First, we have an `Encoder` class, which uses a `Sampling` layer to map a MNIST digit to a latent-space triplet `(z_mean, z_log_var, z)`."
      ]
    },
    {
      "cell_type": "code",
      "metadata": {
        "id": "dLWpH_ZsljlP",
        "colab_type": "code",
        "colab": {}
      },
      "source": [
        "from tensorflow.keras import layers\n",
        "\n",
        "class Sampling(layers.Layer):\n",
        "  \"\"\"Uses (z_mean, z_log_var) to sample z, the vector encoding a digit.\"\"\"\n",
        "\n",
        "  def call(self, inputs):\n",
        "    z_mean, z_log_var = inputs\n",
        "    batch = tf.shape(z_mean)[0]\n",
        "    dim = tf.shape(z_mean)[1]\n",
        "    epsilon = tf.keras.backend.random_normal(shape=(batch, dim))\n",
        "    return z_mean + tf.exp(0.5 * z_log_var) * epsilon\n",
        "\n",
        "\n",
        "class Encoder(layers.Layer):\n",
        "  \"\"\"Maps MNIST digits to a triplet (z_mean, z_log_var, z).\"\"\"\n",
        "\n",
        "  def __init__(self,\n",
        "               latent_dim=32,\n",
        "               intermediate_dim=64,\n",
        "               **kwargs):\n",
        "    super(Encoder, self).__init__(**kwargs)\n",
        "    self.dense_proj = layers.Dense(intermediate_dim, activation=tf.nn.relu)\n",
        "    self.dense_mean = layers.Dense(latent_dim)\n",
        "    self.dense_log_var = layers.Dense(latent_dim)\n",
        "    self.sampling = Sampling()\n",
        "\n",
        "  def call(self, inputs):\n",
        "    x = self.dense_proj(inputs)\n",
        "    z_mean = self.dense_mean(x)\n",
        "    z_log_var = self.dense_log_var(x)\n",
        "    z = self.sampling((z_mean, z_log_var))\n",
        "    return z_mean, z_log_var, z"
      ],
      "execution_count": 0,
      "outputs": []
    },
    {
      "cell_type": "markdown",
      "metadata": {
        "id": "27974jMgll19",
        "colab_type": "text"
      },
      "source": [
        "Next, we have a `Decoder` class, which maps the probabilistic latent space coordinates back to a MNIST digit."
      ]
    },
    {
      "cell_type": "code",
      "metadata": {
        "id": "rR8Rp9zek3mZ",
        "colab_type": "code",
        "colab": {}
      },
      "source": [
        "class Decoder(layers.Layer):\n",
        "  \"\"\"Converts z, the encoded digit vector, back into a readable digit.\"\"\"\n",
        "\n",
        "  def __init__(self,\n",
        "               original_dim,\n",
        "               intermediate_dim=64,\n",
        "               **kwargs):\n",
        "    super(Decoder, self).__init__(**kwargs)\n",
        "    self.dense_proj = layers.Dense(intermediate_dim, activation=tf.nn.relu)\n",
        "    self.dense_output = layers.Dense(original_dim, activation=tf.nn.sigmoid)\n",
        "\n",
        "  def call(self, inputs):\n",
        "    x = self.dense_proj(inputs)\n",
        "    return self.dense_output(x)"
      ],
      "execution_count": 0,
      "outputs": []
    },
    {
      "cell_type": "markdown",
      "metadata": {
        "id": "7N74DOQblqXL",
        "colab_type": "text"
      },
      "source": [
        "Finally, our `VariationalAutoEncoder` composes together an encoder and a decoder, and creates a KL divergence regularization loss via `add_loss()`."
      ]
    },
    {
      "cell_type": "code",
      "metadata": {
        "id": "M9d454liluee",
        "colab_type": "code",
        "colab": {}
      },
      "source": [
        "class VariationalAutoEncoder(layers.Layer):\n",
        "  \"\"\"Combines the encoder and decoder into an end-to-end model for training.\"\"\"\n",
        "\n",
        "  def __init__(self,\n",
        "               original_dim,\n",
        "               intermediate_dim=64,\n",
        "               latent_dim=32,\n",
        "               **kwargs):\n",
        "    super(VariationalAutoEncoder, self).__init__(**kwargs)\n",
        "    self.original_dim = original_dim\n",
        "    self.encoder = Encoder(latent_dim=latent_dim,\n",
        "                           intermediate_dim=intermediate_dim)\n",
        "    self.decoder = Decoder(original_dim, intermediate_dim=intermediate_dim)\n",
        "\n",
        "  def call(self, inputs):\n",
        "    z_mean, z_log_var, z = self.encoder(inputs)\n",
        "    reconstructed = self.decoder(z)\n",
        "    # Add KL divergence regularization loss.\n",
        "    kl_loss = - 0.5 * tf.reduce_mean(\n",
        "        z_log_var - tf.square(z_mean) - tf.exp(z_log_var) + 1)\n",
        "    self.add_loss(kl_loss)\n",
        "    return reconstructed"
      ],
      "execution_count": 0,
      "outputs": []
    },
    {
      "cell_type": "markdown",
      "metadata": {
        "id": "_hqqbtTLl4Jw",
        "colab_type": "text"
      },
      "source": [
        "Now, let's write a training loop. Our training step is decorated with a `@tf.function` to compile into a super fast graph function."
      ]
    },
    {
      "cell_type": "code",
      "metadata": {
        "id": "pBQzEaq5m0qh",
        "colab_type": "code",
        "outputId": "459aabd7-8315-4bb7-b3af-825ba0d54267",
        "colab": {
          "base_uri": "https://localhost:8080/",
          "height": 238
        }
      },
      "source": [
        "# Our model.\n",
        "vae = VariationalAutoEncoder(original_dim=784,\n",
        "                             intermediate_dim=64,\n",
        "                             latent_dim=32)\n",
        "\n",
        "# Loss and optimizer.\n",
        "loss_fn = tf.keras.losses.MeanSquaredError()\n",
        "optimizer = tf.keras.optimizers.Adam(learning_rate=1e-3)\n",
        "\n",
        "# Prepare a dataset.\n",
        "(x_train, _), _ = tf.keras.datasets.mnist.load_data()\n",
        "dataset = tf.data.Dataset.from_tensor_slices(\n",
        "    x_train.reshape(60000, 784).astype('float32') / 255)\n",
        "dataset = dataset.shuffle(buffer_size=1024).batch(32)\n",
        "\n",
        "@tf.function\n",
        "def training_step(x):\n",
        "    with tf.GradientTape() as tape:\n",
        "        reconstructed = vae(x)  # Compute input reconstruction.\n",
        "        # Compute loss.\n",
        "        loss = loss_fn(x, reconstructed)\n",
        "        loss += sum(vae.losses)  # Add KLD term.\n",
        "    # Update the weights of the VAE.\n",
        "    grads = tape.gradient(loss, vae.trainable_weights)\n",
        "    optimizer.apply_gradients(zip(grads, vae.trainable_weights))\n",
        "    return loss\n",
        "\n",
        "losses = []  # Keep track of the losses over time.\n",
        "for step, x in enumerate(dataset):\n",
        "  loss = training_step(x)\n",
        "  # Logging.\n",
        "  losses.append(float(loss))\n",
        "  if step % 100 == 0:\n",
        "    print('Step:', step, 'Loss:', sum(losses) / len(losses))\n",
        "\n",
        "  # Stop after 1000 steps.\n",
        "  # Training the model to convergence is left\n",
        "  # as an exercise to the reader.\n",
        "  if step >= 1000:\n",
        "    break"
      ],
      "execution_count": 0,
      "outputs": [
        {
          "output_type": "stream",
          "text": [
            "Downloading data from https://storage.googleapis.com/tensorflow/tf-keras-datasets/mnist.npz\n",
            "11493376/11490434 [==============================] - 0s 0us/step\n",
            "Step: 0 Loss: 0.361686646938324\n",
            "Step: 100 Loss: 0.1285478109032801\n",
            "Step: 200 Loss: 0.10104367466856591\n",
            "Step: 300 Loss: 0.09053784800674829\n",
            "Step: 400 Loss: 0.0853704646174004\n",
            "Step: 500 Loss: 0.08212110186795037\n",
            "Step: 600 Loss: 0.07958796113332774\n",
            "Step: 700 Loss: 0.07818496016820045\n",
            "Step: 800 Loss: 0.07692752221829435\n",
            "Step: 900 Loss: 0.0759519647546402\n",
            "Step: 1000 Loss: 0.07496649954657812\n"
          ],
          "name": "stdout"
        }
      ]
    },
    {
      "cell_type": "markdown",
      "metadata": {
        "id": "vOc0Tes-tCBy",
        "colab_type": "text"
      },
      "source": [
        "As you can see, building and training this type of model in Keras\n",
        "is quick and painless.\n",
        "\n",
        "Now, you may find that the code above is somewhat verbose: we handle every little detail on our own, by hand. This gives the most flexibility, but it's also a bit of work.\n",
        "\n",
        "Let's take a look at what the Functional API version of\n",
        "our VAE looks like:"
      ]
    },
    {
      "cell_type": "code",
      "metadata": {
        "id": "ALIDmdoZuQOS",
        "colab_type": "code",
        "colab": {}
      },
      "source": [
        "original_dim = 784\n",
        "intermediate_dim = 64\n",
        "latent_dim = 32\n",
        "\n",
        "# Define encoder model.\n",
        "original_inputs = tf.keras.Input(shape=(original_dim,), name='encoder_input')\n",
        "x = layers.Dense(intermediate_dim, activation='relu')(original_inputs)\n",
        "z_mean = layers.Dense(latent_dim, name='z_mean')(x)\n",
        "z_log_var = layers.Dense(latent_dim, name='z_log_var')(x)\n",
        "z = Sampling()((z_mean, z_log_var))\n",
        "encoder = tf.keras.Model(inputs=original_inputs, outputs=z, name='encoder')\n",
        "\n",
        "# Define decoder model.\n",
        "latent_inputs = tf.keras.Input(shape=(latent_dim,), name='z_sampling')\n",
        "x = layers.Dense(intermediate_dim, activation='relu')(latent_inputs)\n",
        "outputs = layers.Dense(original_dim, activation='sigmoid')(x)\n",
        "decoder = tf.keras.Model(inputs=latent_inputs, outputs=outputs, name='decoder')\n",
        "\n",
        "# Define VAE model.\n",
        "outputs = decoder(z)\n",
        "vae = tf.keras.Model(inputs=original_inputs, outputs=outputs, name='vae')\n",
        "\n",
        "# Add KL divergence regularization loss.\n",
        "kl_loss = - 0.5 * tf.reduce_mean(\n",
        "    z_log_var - tf.square(z_mean) - tf.exp(z_log_var) + 1)\n",
        "vae.add_loss(kl_loss)"
      ],
      "execution_count": 0,
      "outputs": []
    },
    {
      "cell_type": "markdown",
      "metadata": {
        "id": "a4KLnCAquUn_",
        "colab_type": "text"
      },
      "source": [
        "Much more concise, right?\n",
        "\n",
        "By the way, Keras also features built-in training & evaluation loops on its `Model` class (`fit()` and `evaluate()`). Check it out: "
      ]
    },
    {
      "cell_type": "code",
      "metadata": {
        "id": "4ODIG3rUuffw",
        "colab_type": "code",
        "outputId": "1d93e139-7011-4589-c149-9216959490cf",
        "colab": {
          "base_uri": "https://localhost:8080/",
          "height": 51
        }
      },
      "source": [
        "# Loss and optimizer.\n",
        "loss_fn = tf.keras.losses.MeanSquaredError()\n",
        "optimizer = tf.keras.optimizers.Adam(learning_rate=1e-3)\n",
        "\n",
        "# Prepare a dataset.\n",
        "(x_train, _), _ = tf.keras.datasets.mnist.load_data()\n",
        "dataset = tf.data.Dataset.from_tensor_slices(\n",
        "    x_train.reshape(60000, 784).astype('float32') / 255)\n",
        "dataset = dataset.map(lambda x: (x, x))  # Use x_train as both inputs & targets\n",
        "dataset = dataset.shuffle(buffer_size=1024).batch(32)\n",
        "\n",
        "# Configure the model for training.\n",
        "vae.compile(optimizer, loss=loss_fn)\n",
        "\n",
        "# Actually training the model.\n",
        "vae.fit(dataset, epochs=1)"
      ],
      "execution_count": 0,
      "outputs": [
        {
          "output_type": "stream",
          "text": [
            "1875/1875 [==============================] - 5s 3ms/step - loss: 0.1081\n"
          ],
          "name": "stdout"
        },
        {
          "output_type": "execute_result",
          "data": {
            "text/plain": [
              "<tensorflow.python.keras.callbacks.History at 0x7f8fc3c03ba8>"
            ]
          },
          "metadata": {
            "tags": []
          },
          "execution_count": 8
        }
      ]
    },
    {
      "cell_type": "markdown",
      "metadata": {
        "id": "fcNtAB8FvPR-",
        "colab_type": "text"
      },
      "source": [
        "The use of the Functional API and `fit` reduces our example from 65 lines to 25 lines (including model definition & training). The Keras philosophy is to offer you productivity-boosting features like\n",
        "these, while simultaneously empowering you to write everything yourself to gain absolute control over every little detail. Like we did in the low-level training loop two paragraphs earlier."
      ]
    },
    {
      "cell_type": "markdown",
      "metadata": {
        "id": "wRUWOwf9DzWf",
        "colab_type": "text"
      },
      "source": [
        "## End-to-end experiment example 2: hypernetworks.\n",
        "\n",
        "Let's take a look at another kind of research experiment: hypernetworks.\n",
        "\n",
        "A hypernetwork is a deep neural network whose weights are generated by another network (usually smaller).\n",
        "\n",
        "Let's implement a really trivial hypernetwork: we'll use a small 2-layer network  to generate the weights of a larger 3-layer network.\n",
        "\n"
      ]
    },
    {
      "cell_type": "code",
      "metadata": {
        "id": "pRguw6RPEGqO",
        "colab_type": "code",
        "colab": {}
      },
      "source": [
        "import numpy as np\n",
        "\n",
        "input_dim = 784\n",
        "classes = 10\n",
        "\n",
        "# This is the model we'll actually use to predict labels (the hypernetwork).\n",
        "outer_model = keras.Sequential([\n",
        "    keras.layers.Dense(64, activation=tf.nn.relu),\n",
        "    keras.layers.Dense(classes),\n",
        "])\n",
        "\n",
        "# It doesn't need to create its own weights, so let's mark its layers\n",
        "# as already built. That way, calling `outer_model` won't create new variables.\n",
        "for layer in outer_model.layers:\n",
        "  layer.built = True\n",
        "\n",
        "# This is the number of weight coefficients to generate. Each layer in the\n",
        "# hypernetwork requires output_dim * input_dim + output_dim coefficients.\n",
        "num_weights_to_generate = (\n",
        "    classes * 64 + classes) + (64 * input_dim + 64)\n",
        "\n",
        "# This is the model that generates the weights of the `outer_model` above.\n",
        "inner_model = keras.Sequential([\n",
        "    keras.layers.Dense(16, activation=tf.nn.relu),\n",
        "    keras.layers.Dense(num_weights_to_generate, activation=tf.nn.sigmoid),\n",
        "])"
      ],
      "execution_count": 0,
      "outputs": []
    },
    {
      "cell_type": "markdown",
      "metadata": {
        "id": "-7dbgihfmJ6u",
        "colab_type": "text"
      },
      "source": [
        "This is our training loop. For each batch of data:\n",
        "\n",
        "- We use `inner_model` to generate an array of weight coefficients, `weights_pred`\n",
        "- We reshape these coefficients into kernel & bias tensors for the `outer_model`\n",
        "- We run the forward pass of the `outer_model` to compute the actual MNIST predictions\n",
        "- We run backprop through the weights of the `inner_model` to minimize the\n",
        "final classification loss"
      ]
    },
    {
      "cell_type": "code",
      "metadata": {
        "id": "ES67n6cqmKGY",
        "colab_type": "code",
        "outputId": "baa36ce3-c00e-4ed1-b1cc-bf7f018d427d",
        "colab": {
          "base_uri": "https://localhost:8080/",
          "height": 204
        }
      },
      "source": [
        "# Loss and optimizer.\n",
        "loss_fn = tf.keras.losses.SparseCategoricalCrossentropy(from_logits=True)\n",
        "optimizer = tf.keras.optimizers.Adam(learning_rate=1e-4)\n",
        "\n",
        "# Prepare a dataset.\n",
        "(x_train, y_train), _ = tf.keras.datasets.mnist.load_data()\n",
        "dataset = tf.data.Dataset.from_tensor_slices(\n",
        "    (x_train.reshape(60000, 784).astype('float32') / 255, y_train))\n",
        "\n",
        "# We'll use a batch size of 1 for this experiment.\n",
        "dataset = dataset.shuffle(buffer_size=1024).batch(1)\n",
        "\n",
        "@tf.function\n",
        "def train_step(x, y):\n",
        "  with tf.GradientTape() as tape:\n",
        "    # Predict weights for the outer model.\n",
        "    weights_pred = inner_model(x)\n",
        "\n",
        "    # Reshape them to the expected shapes for w and b for the outer model.\n",
        "    # Layer 0 kernel.\n",
        "    start_index = 0\n",
        "    w0_shape = (input_dim, 64)\n",
        "    w0_coeffs = weights_pred[:, start_index : start_index + np.prod(w0_shape)]\n",
        "    w0 = tf.reshape(w0_coeffs, w0_shape)\n",
        "    start_index += np.prod(w0_shape)\n",
        "    # Layer 0 bias.\n",
        "    b0_shape = (64,)\n",
        "    b0_coeffs = weights_pred[:, start_index : start_index + np.prod(b0_shape)]\n",
        "    b0 = tf.reshape(b0_coeffs, b0_shape)\n",
        "    start_index += np.prod(b0_shape)\n",
        "    # Layer 1 kernel.\n",
        "    w1_shape = (64, classes)\n",
        "    w1_coeffs = weights_pred[:, start_index : start_index + np.prod(w1_shape)]\n",
        "    w1 = tf.reshape(w1_coeffs, w1_shape)\n",
        "    start_index += np.prod(w1_shape)\n",
        "    # Layer 1 bias.\n",
        "    b1_shape = (classes,)\n",
        "    b1_coeffs = weights_pred[:, start_index : start_index + np.prod(b1_shape)]\n",
        "    b1 = tf.reshape(b1_coeffs, b1_shape)\n",
        "    start_index += np.prod(b1_shape)\n",
        "    \n",
        "    # Set the weight predictions as the weight variables on the outer model.\n",
        "    outer_model.layers[0].kernel = w0\n",
        "    outer_model.layers[0].bias = b0\n",
        "    outer_model.layers[1].kernel = w1\n",
        "    outer_model.layers[1].bias = b1\n",
        "    \n",
        "    # Inference on the outer model.\n",
        "    preds = outer_model(x)\n",
        "    loss = loss_fn(y, preds)\n",
        "\n",
        "  # Train only inner model.\n",
        "  grads = tape.gradient(loss, inner_model.trainable_weights)\n",
        "  optimizer.apply_gradients(zip(grads, inner_model.trainable_weights))\n",
        "  return loss\n",
        "\n",
        "losses = []  # Keep track of the losses over time.\n",
        "for step, (x, y) in enumerate(dataset):\n",
        "  loss = train_step(x, y)\n",
        "\n",
        "  # Logging.\n",
        "  losses.append(float(loss))\n",
        "  if step % 100 == 0:\n",
        "    print('Step:', step, 'Loss:', sum(losses) / len(losses))\n",
        "    \n",
        "  # Stop after 1000 steps.\n",
        "  # Training the model to convergence is left\n",
        "  # as an exercise to the reader.\n",
        "  if step >= 1000:\n",
        "    break"
      ],
      "execution_count": 0,
      "outputs": [
        {
          "output_type": "stream",
          "text": [
            "Step: 0 Loss: 1.8530100584030151\n",
            "Step: 100 Loss: 2.3857436308471285\n",
            "Step: 200 Loss: 2.084582945146593\n",
            "Step: 300 Loss: 1.9544120905271103\n",
            "Step: 400 Loss: 1.8931824949400458\n",
            "Step: 500 Loss: 1.7889817447195706\n",
            "Step: 600 Loss: 1.7387040337795987\n",
            "Step: 700 Loss: 1.6939377287283797\n",
            "Step: 800 Loss: 1.6460401033153007\n",
            "Step: 900 Loss: 1.6042239737982045\n",
            "Step: 1000 Loss: 1.5792943645005353\n"
          ],
          "name": "stdout"
        }
      ]
    },
    {
      "cell_type": "markdown",
      "metadata": {
        "id": "UaDUx-6cEgAL",
        "colab_type": "text"
      },
      "source": [
        "Implementing arbitrary research ideas with Keras is straightforward and highly productive. Imagine trying out 25 ideas per day (20 minutes per experiment on average)!\n",
        "\n",
        "Keras has been designed to go from idea to results as fast as possible, because we believe this is\n",
        "the key to doing great research."
      ]
    },
    {
      "cell_type": "markdown",
      "metadata": {
        "id": "N2Uj3ndMIqzS",
        "colab_type": "text"
      },
      "source": [
        "We hope you enjoyed this quick introduction. Let us know what you build with Keras!"
      ]
    }
  ]
}