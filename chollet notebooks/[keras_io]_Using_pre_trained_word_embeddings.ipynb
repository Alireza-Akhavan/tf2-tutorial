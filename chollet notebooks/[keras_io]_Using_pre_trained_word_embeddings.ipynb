{
  "nbformat": 4,
  "nbformat_minor": 0,
  "metadata": {
    "colab": {
      "name": "[keras.io] Using pre-trained word embeddings.ipynb",
      "provenance": [],
      "collapsed_sections": [],
      "machine_shape": "hm"
    },
    "kernelspec": {
      "name": "python3",
      "display_name": "Python 3"
    },
    "accelerator": "GPU"
  },
  "cells": [
    {
      "cell_type": "markdown",
      "metadata": {
        "id": "8InK0XFrdknj",
        "colab_type": "text"
      },
      "source": [
        "# Using pre-trained word embeddings"
      ]
    },
    {
      "cell_type": "markdown",
      "metadata": {
        "id": "r9O_aNT3dpdj",
        "colab_type": "text"
      },
      "source": [
        "## Setup"
      ]
    },
    {
      "cell_type": "code",
      "metadata": {
        "id": "iX_Zd_Vpcp7I",
        "colab_type": "code",
        "colab": {}
      },
      "source": [
        "import numpy as np\n",
        "import tensorflow as tf\n",
        "from tensorflow import keras"
      ],
      "execution_count": 0,
      "outputs": []
    },
    {
      "cell_type": "markdown",
      "metadata": {
        "id": "23tnR6wgvm9c",
        "colab_type": "text"
      },
      "source": [
        "## Introduction\n",
        "\n",
        "In this example, we show how to train a text classification model that uses pre-trained word embeddings.\n",
        "\n",
        "We'll work with the Newsgroup20 dataset, a set of 20,000 message board messages\n",
        "belonging to 20 different topic categories.\n",
        "\n",
        "For the pre-trained word embeddings, we'll use\n",
        "[GloVe embeddings](http://nlp.stanford.edu/projects/glove/)."
      ]
    },
    {
      "cell_type": "markdown",
      "metadata": {
        "id": "K3CcQ0d-3UJ-",
        "colab_type": "text"
      },
      "source": [
        "## Download the Newsgroup20 data"
      ]
    },
    {
      "cell_type": "code",
      "metadata": {
        "id": "K574L8h0iY9y",
        "colab_type": "code",
        "colab": {}
      },
      "source": [
        "data_path = keras.utils.get_file('news20.tar.gz', 'http://www.cs.cmu.edu/afs/cs.cmu.edu/project/theo-20/www/data/news20.tar.gz', untar=True)"
      ],
      "execution_count": 0,
      "outputs": []
    },
    {
      "cell_type": "markdown",
      "metadata": {
        "id": "-VwoL3-q3ZDT",
        "colab_type": "text"
      },
      "source": [
        "## Let's take a look at the data"
      ]
    },
    {
      "cell_type": "code",
      "metadata": {
        "id": "w0YmlRd82BbM",
        "colab_type": "code",
        "outputId": "ad7793f5-5938-41b4-ec40-4263a2fd912c",
        "colab": {
          "base_uri": "https://localhost:8080/",
          "height": 34
        }
      },
      "source": [
        "import os\n",
        "import pathlib\n",
        "\n",
        "os.listdir(pathlib.Path(data_path).parent)"
      ],
      "execution_count": 0,
      "outputs": [
        {
          "output_type": "execute_result",
          "data": {
            "text/plain": [
              "['news20.tar.gz.tar.gz', '20_newsgroup']"
            ]
          },
          "metadata": {
            "tags": []
          },
          "execution_count": 3
        }
      ]
    },
    {
      "cell_type": "code",
      "metadata": {
        "id": "XSuhi0QF2Ttu",
        "colab_type": "code",
        "outputId": "aa1eec02-1627-4b97-9b37-e0521da20297",
        "colab": {
          "base_uri": "https://localhost:8080/",
          "height": 72
        }
      },
      "source": [
        "data_dir = pathlib.Path(data_path).parent / '20_newsgroup'\n",
        "dirnames = os.listdir(data_dir)\n",
        "print('Number of directories:', len(dirnames))\n",
        "print('Directory names:', dirnames)"
      ],
      "execution_count": 0,
      "outputs": [
        {
          "output_type": "stream",
          "text": [
            "Number of directories: 20\n",
            "Directory names: ['alt.atheism', 'sci.space', 'talk.politics.guns', 'comp.sys.mac.hardware', 'rec.sport.hockey', 'rec.autos', 'talk.religion.misc', 'sci.electronics', 'talk.politics.misc', 'comp.windows.x', 'soc.religion.christian', 'comp.os.ms-windows.misc', 'comp.graphics', 'sci.crypt', 'rec.motorcycles', 'sci.med', 'talk.politics.mideast', 'misc.forsale', 'rec.sport.baseball', 'comp.sys.ibm.pc.hardware']\n"
          ],
          "name": "stdout"
        }
      ]
    },
    {
      "cell_type": "code",
      "metadata": {
        "id": "L3mb3O-BihFb",
        "colab_type": "code",
        "outputId": "a480577a-7ddd-4487-8524-9ea0acc80610",
        "colab": {
          "base_uri": "https://localhost:8080/",
          "height": 52
        }
      },
      "source": [
        "fnames = os.listdir(data_dir / 'comp.graphics')\n",
        "print('Number of files in comp.graphics:', len(fnames))\n",
        "print('Some example filenames:', fnames[:5])"
      ],
      "execution_count": 0,
      "outputs": [
        {
          "output_type": "stream",
          "text": [
            "Number of files in comp.graphics: 1000\n",
            "Some example filenames: ['39027', '39668', '38937', '39500', '38877']\n"
          ],
          "name": "stdout"
        }
      ]
    },
    {
      "cell_type": "markdown",
      "metadata": {
        "id": "MgdaYfSAvZty",
        "colab_type": "text"
      },
      "source": [
        "Here's a example of what one file contains:"
      ]
    },
    {
      "cell_type": "code",
      "metadata": {
        "id": "8fL-UTRx20zA",
        "colab_type": "code",
        "outputId": "2cef7952-a35c-41ac-aedb-222aa75f9a58",
        "colab": {
          "base_uri": "https://localhost:8080/",
          "height": 374
        }
      },
      "source": [
        "print(open(data_dir / 'comp.graphics' / '38987').read())"
      ],
      "execution_count": 0,
      "outputs": [
        {
          "output_type": "stream",
          "text": [
            "Newsgroups: comp.graphics\n",
            "Path: cantaloupe.srv.cs.cmu.edu!das-news.harvard.edu!noc.near.net!howland.reston.ans.net!agate!dog.ee.lbl.gov!network.ucsd.edu!usc!rpi!nason110.its.rpi.edu!mabusj\n",
            "From: mabusj@nason110.its.rpi.edu (Jasen M. Mabus)\n",
            "Subject: Looking for Brain in CAD\n",
            "Message-ID: <c285m+p@rpi.edu>\n",
            "Nntp-Posting-Host: nason110.its.rpi.edu\n",
            "Reply-To: mabusj@rpi.edu\n",
            "Organization: Rensselaer Polytechnic Institute, Troy, NY.\n",
            "Date: Thu, 29 Apr 1993 23:27:20 GMT\n",
            "Lines: 7\n",
            "\n",
            "Jasen Mabus\n",
            "RPI student\n",
            "\n",
            "\tI am looking for a hman brain in any CAD (.dxf,.cad,.iges,.cgm,etc.) or picture (.gif,.jpg,.ras,etc.) format for an animation demonstration. If any has or knows of a location please reply by e-mail to mabusj@rpi.edu.\n",
            "\n",
            "Thank you in advance,\n",
            "Jasen Mabus  \n",
            "\n"
          ],
          "name": "stdout"
        }
      ]
    },
    {
      "cell_type": "markdown",
      "metadata": {
        "id": "mMMGnJ75vcKb",
        "colab_type": "text"
      },
      "source": [
        "As you can see, there are header lines that are leaking the file's category, either explicitly (the first line is literally the category name), or implicitly, e.g. via the `Organization` filed. Let's get rid of the headers:"
      ]
    },
    {
      "cell_type": "code",
      "metadata": {
        "id": "NHDr_hhNjKhV",
        "colab_type": "code",
        "outputId": "a3231184-f8a6-4510-a8d3-5e83b135f245",
        "colab": {
          "base_uri": "https://localhost:8080/",
          "height": 372
        }
      },
      "source": [
        "samples = []\n",
        "labels = []\n",
        "class_names = []\n",
        "class_index = 0\n",
        "for dirname in sorted(os.listdir(data_dir)):\n",
        "  class_names.append(dirname)\n",
        "  dirpath = data_dir / dirname\n",
        "  fnames = os.listdir(dirpath)\n",
        "  print('Processing %s, %d files found' % (dirname, len(fnames)))\n",
        "  for fname in fnames:\n",
        "    fpath = dirpath / fname\n",
        "    f = open(fpath, encoding='latin-1')\n",
        "    content = f.read()\n",
        "    lines = content.split('\\n')\n",
        "    lines = lines[10:]\n",
        "    content = '\\n'.join(lines)\n",
        "    samples.append(content)\n",
        "    labels.append(class_index)\n",
        "  class_index += 1"
      ],
      "execution_count": 0,
      "outputs": [
        {
          "output_type": "stream",
          "text": [
            "Processing alt.atheism, 1000 files found\n",
            "Processing comp.graphics, 1000 files found\n",
            "Processing comp.os.ms-windows.misc, 1000 files found\n",
            "Processing comp.sys.ibm.pc.hardware, 1000 files found\n",
            "Processing comp.sys.mac.hardware, 1000 files found\n",
            "Processing comp.windows.x, 1000 files found\n",
            "Processing misc.forsale, 1000 files found\n",
            "Processing rec.autos, 1000 files found\n",
            "Processing rec.motorcycles, 1000 files found\n",
            "Processing rec.sport.baseball, 1000 files found\n",
            "Processing rec.sport.hockey, 1000 files found\n",
            "Processing sci.crypt, 1000 files found\n",
            "Processing sci.electronics, 1000 files found\n",
            "Processing sci.med, 1000 files found\n",
            "Processing sci.space, 1000 files found\n",
            "Processing soc.religion.christian, 997 files found\n",
            "Processing talk.politics.guns, 1000 files found\n",
            "Processing talk.politics.mideast, 1000 files found\n",
            "Processing talk.politics.misc, 1000 files found\n",
            "Processing talk.religion.misc, 1000 files found\n"
          ],
          "name": "stdout"
        }
      ]
    },
    {
      "cell_type": "code",
      "metadata": {
        "id": "U9hZbOF3vDdN",
        "colab_type": "code",
        "outputId": "fb9ebedb-0c0d-46b0-9de3-baa998f9f05d",
        "colab": {
          "base_uri": "https://localhost:8080/",
          "height": 72
        }
      },
      "source": [
        "print('Classes:', class_names)\n",
        "print('Number of samples:', len(samples))"
      ],
      "execution_count": 0,
      "outputs": [
        {
          "output_type": "stream",
          "text": [
            "Classes: ['alt.atheism', 'comp.graphics', 'comp.os.ms-windows.misc', 'comp.sys.ibm.pc.hardware', 'comp.sys.mac.hardware', 'comp.windows.x', 'misc.forsale', 'rec.autos', 'rec.motorcycles', 'rec.sport.baseball', 'rec.sport.hockey', 'sci.crypt', 'sci.electronics', 'sci.med', 'sci.space', 'soc.religion.christian', 'talk.politics.guns', 'talk.politics.mideast', 'talk.politics.misc', 'talk.religion.misc']\n",
            "Number of samples: 19997\n"
          ],
          "name": "stdout"
        }
      ]
    },
    {
      "cell_type": "markdown",
      "metadata": {
        "id": "GdABwSS3xG1o",
        "colab_type": "text"
      },
      "source": [
        "There's actually one category that doesn't have the expected number of files, but the difference is small enough that the problem remains a balanced classification problem."
      ]
    },
    {
      "cell_type": "markdown",
      "metadata": {
        "id": "N2mdIOFta7-i",
        "colab_type": "text"
      },
      "source": [
        "## Shuffle and split the data into training & validation sets"
      ]
    },
    {
      "cell_type": "code",
      "metadata": {
        "id": "V19M39t6DQwe",
        "colab_type": "code",
        "colab": {}
      },
      "source": [
        "# Shuffle the data\n",
        "seed = 1337\n",
        "rng = np.random.RandomState(seed)\n",
        "rng.shuffle(samples)\n",
        "rng = np.random.RandomState(seed)\n",
        "rng.shuffle(labels)\n",
        "\n",
        "# Extract a training & validation split\n",
        "validation_split = 0.2\n",
        "num_validation_samples = int(validation_split * len(samples))\n",
        "train_samples = samples[:-num_validation_samples]\n",
        "val_samples = samples[-num_validation_samples:]\n",
        "train_labels = labels[:-num_validation_samples]\n",
        "val_labels = labels[-num_validation_samples:]"
      ],
      "execution_count": 0,
      "outputs": []
    },
    {
      "cell_type": "markdown",
      "metadata": {
        "id": "1jE8JkoXxJ2w",
        "colab_type": "text"
      },
      "source": [
        "## Create a vocabulary index\n",
        "\n",
        "Let's use the `TextVectorization` to index the vocabulary found in the dataset.\n",
        "Later, we'll use the same layer instance to vectorize the samples.\n",
        "\n",
        "Our layer will only consider the top 20,000 words, and will truncate or pad sequences to be actually 200 tokens long."
      ]
    },
    {
      "cell_type": "code",
      "metadata": {
        "id": "Mtvi4sf6yAzN",
        "colab_type": "code",
        "colab": {}
      },
      "source": [
        "from tensorflow.keras.layers.experimental.preprocessing import TextVectorization\n",
        "\n",
        "vectorizer = TextVectorization(max_tokens=20000, output_sequence_length=200)\n",
        "text_ds = tf.data.Dataset.from_tensor_slices(train_samples).batch(128)\n",
        "vectorizer.adapt(text_ds)"
      ],
      "execution_count": 0,
      "outputs": []
    },
    {
      "cell_type": "markdown",
      "metadata": {
        "id": "58gnHd_Xzf88",
        "colab_type": "text"
      },
      "source": [
        "You can retrieve the computed vocabulary used via `vectorizer.get_vocabulary()`. Let's print the top 5 words:"
      ]
    },
    {
      "cell_type": "code",
      "metadata": {
        "id": "MzseHMB6ze2I",
        "colab_type": "code",
        "outputId": "1269f8a2-3106-44e2-d8ad-c8bbf219001b",
        "colab": {
          "base_uri": "https://localhost:8080/",
          "height": 34
        }
      },
      "source": [
        "vectorizer.get_vocabulary()[:5]"
      ],
      "execution_count": 0,
      "outputs": [
        {
          "output_type": "execute_result",
          "data": {
            "text/plain": [
              "[b'the', b'to', b'of', b'a', b'and']"
            ]
          },
          "metadata": {
            "tags": []
          },
          "execution_count": 11
        }
      ]
    },
    {
      "cell_type": "markdown",
      "metadata": {
        "id": "kqmQcFVjzqm6",
        "colab_type": "text"
      },
      "source": [
        "Let's vectorize a test sentence:"
      ]
    },
    {
      "cell_type": "code",
      "metadata": {
        "id": "O-QbnmkMzSfG",
        "colab_type": "code",
        "outputId": "fb041bb8-6de6-420f-ed7d-90baa590b26d",
        "colab": {
          "base_uri": "https://localhost:8080/",
          "height": 34
        }
      },
      "source": [
        "output = vectorizer([['the cat sat on the mat']])\n",
        "output.numpy()[0, :6]"
      ],
      "execution_count": 0,
      "outputs": [
        {
          "output_type": "execute_result",
          "data": {
            "text/plain": [
              "array([   2, 3634, 1775,   15,    2, 6805])"
            ]
          },
          "metadata": {
            "tags": []
          },
          "execution_count": 16
        }
      ]
    },
    {
      "cell_type": "markdown",
      "metadata": {
        "id": "VyOCmW7zztCv",
        "colab_type": "text"
      },
      "source": [
        "As you can see, \"the\" gets represented as \"2\". Why not 0, given that \"the\" was the first word in the vocabulary? That's because index 0 is reserved for padding and index 1 is reserved for \"out of vocabulary\" tokens.\n",
        "\n",
        "Here's a dict mapping words to their indices:"
      ]
    },
    {
      "cell_type": "code",
      "metadata": {
        "id": "PfEkH4MfyXLU",
        "colab_type": "code",
        "colab": {}
      },
      "source": [
        "voc = vectorizer.get_vocabulary()\n",
        "word_index = dict(zip(voc, range(2, len(voc))))"
      ],
      "execution_count": 0,
      "outputs": []
    },
    {
      "cell_type": "markdown",
      "metadata": {
        "id": "W16FxP6a1si7",
        "colab_type": "text"
      },
      "source": [
        "As you can see, we obtain the same encoding as above for our test sentence:"
      ]
    },
    {
      "cell_type": "code",
      "metadata": {
        "id": "uQaV7ZkX1RlY",
        "colab_type": "code",
        "outputId": "2819ef0b-318b-4f03-a844-617be117c408",
        "colab": {
          "base_uri": "https://localhost:8080/",
          "height": 34
        }
      },
      "source": [
        "test = [b'the', b'cat', b'sat', b'on', b'the', b'mat']\n",
        "[word_index[w] for w in test]"
      ],
      "execution_count": 0,
      "outputs": [
        {
          "output_type": "execute_result",
          "data": {
            "text/plain": [
              "[2, 3634, 1775, 15, 2, 6805]"
            ]
          },
          "metadata": {
            "tags": []
          },
          "execution_count": 18
        }
      ]
    },
    {
      "cell_type": "markdown",
      "metadata": {
        "id": "KvPdsfYi17ON",
        "colab_type": "text"
      },
      "source": [
        "## Load pre-trained word embeddings"
      ]
    },
    {
      "cell_type": "markdown",
      "metadata": {
        "id": "TVWHCxKaCFl4",
        "colab_type": "text"
      },
      "source": [
        "Let's download pre-trained GloVe embeddings (a 822M zip file)."
      ]
    },
    {
      "cell_type": "code",
      "metadata": {
        "id": "7gn2Irme2lRg",
        "colab_type": "code",
        "outputId": "6cbd9d5f-47f1-4f95-98d1-0fc916bbf18b",
        "colab": {
          "base_uri": "https://localhost:8080/",
          "height": 372
        }
      },
      "source": [
        "!wget http://nlp.stanford.edu/data/glove.6B.zip"
      ],
      "execution_count": 0,
      "outputs": [
        {
          "output_type": "stream",
          "text": [
            "--2020-05-05 17:16:30--  http://nlp.stanford.edu/data/glove.6B.zip\n",
            "Resolving nlp.stanford.edu (nlp.stanford.edu)... 171.64.67.140\n",
            "Connecting to nlp.stanford.edu (nlp.stanford.edu)|171.64.67.140|:80... connected.\n",
            "HTTP request sent, awaiting response... 302 Found\n",
            "Location: https://nlp.stanford.edu/data/glove.6B.zip [following]\n",
            "--2020-05-05 17:16:31--  https://nlp.stanford.edu/data/glove.6B.zip\n",
            "Connecting to nlp.stanford.edu (nlp.stanford.edu)|171.64.67.140|:443... connected.\n",
            "HTTP request sent, awaiting response... 301 Moved Permanently\n",
            "Location: http://downloads.cs.stanford.edu/nlp/data/glove.6B.zip [following]\n",
            "--2020-05-05 17:16:31--  http://downloads.cs.stanford.edu/nlp/data/glove.6B.zip\n",
            "Resolving downloads.cs.stanford.edu (downloads.cs.stanford.edu)... 171.64.64.22\n",
            "Connecting to downloads.cs.stanford.edu (downloads.cs.stanford.edu)|171.64.64.22|:80... connected.\n",
            "HTTP request sent, awaiting response... 200 OK\n",
            "Length: 862182613 (822M) [application/zip]\n",
            "Saving to: ‘glove.6B.zip’\n",
            "\n",
            "glove.6B.zip        100%[===================>] 822.24M  2.01MB/s    in 6m 30s  \n",
            "\n",
            "2020-05-05 17:23:02 (2.11 MB/s) - ‘glove.6B.zip’ saved [862182613/862182613]\n",
            "\n"
          ],
          "name": "stdout"
        }
      ]
    },
    {
      "cell_type": "code",
      "metadata": {
        "id": "ZrqJHb9Z3alV",
        "colab_type": "code",
        "colab": {}
      },
      "source": [
        "!unzip -q glove.6B.zip"
      ],
      "execution_count": 0,
      "outputs": []
    },
    {
      "cell_type": "code",
      "metadata": {
        "id": "ERnBBkE12heK",
        "colab_type": "code",
        "outputId": "35582974-ac6b-46f6-f864-eac8699997c8",
        "colab": {
          "base_uri": "https://localhost:8080/",
          "height": 52
        }
      },
      "source": [
        "!ls"
      ],
      "execution_count": 0,
      "outputs": [
        {
          "output_type": "stream",
          "text": [
            "glove.6B.100d.txt  glove.6B.300d.txt  glove.6B.zip\n",
            "glove.6B.200d.txt  glove.6B.50d.txt   sample_data\n"
          ],
          "name": "stdout"
        }
      ]
    },
    {
      "cell_type": "markdown",
      "metadata": {
        "id": "szzpl3i1CRaA",
        "colab_type": "text"
      },
      "source": [
        "The archive contains text-encoded vectors of various sizes: 50-dimensional, 100-dimensional, 200-dimensional, 300-dimensional. We'll use the 100D ones.\n",
        "\n",
        "Let's make a dict mapping words (strings) to their NumPy vector representation:"
      ]
    },
    {
      "cell_type": "code",
      "metadata": {
        "id": "n1iDrp2f2e-t",
        "colab_type": "code",
        "outputId": "625643e4-a849-4f94-cf60-82681eefba10",
        "colab": {
          "base_uri": "https://localhost:8080/",
          "height": 34
        }
      },
      "source": [
        "embeddings_index = {}\n",
        "with open('glove.6B.100d.txt') as f:\n",
        "    for line in f:\n",
        "        word, coefs = line.split(maxsplit=1)\n",
        "        coefs = np.fromstring(coefs, 'f', sep=' ')\n",
        "        embeddings_index[word] = coefs\n",
        "\n",
        "print('Found %s word vectors.' % len(embeddings_index))"
      ],
      "execution_count": 0,
      "outputs": [
        {
          "output_type": "stream",
          "text": [
            "Found 400000 word vectors.\n"
          ],
          "name": "stdout"
        }
      ]
    },
    {
      "cell_type": "markdown",
      "metadata": {
        "id": "-Sma66bBCqHN",
        "colab_type": "text"
      },
      "source": [
        "Now, let's prepare a corresponding embedding matrix that we can use in a Keras `Embedding` layer. It's a simple NumPy matrix where entry at index `i` is the pre-trained vector for the word of index `i` in our `vectorizer`'s vocabulary.\n",
        "\n",
        "**Note:** the `TextVectorization` layer stores tokens as bytes, not `str` types.\n",
        "This means that you need to decode them to `utf-8` before doing string comparisons, like the below: `embeddings_index.get(word.decode('utf-8'))`"
      ]
    },
    {
      "cell_type": "code",
      "metadata": {
        "id": "mufUHveG19mJ",
        "colab_type": "code",
        "outputId": "16f6037d-57eb-41c4-93d4-8bb44081cca9",
        "colab": {
          "base_uri": "https://localhost:8080/",
          "height": 34
        }
      },
      "source": [
        "num_tokens = len(voc) + 2\n",
        "embedding_dim = 100\n",
        "hits = 0\n",
        "misses = 0\n",
        "\n",
        "# Prepare embedding matrix\n",
        "embedding_matrix = np.zeros((num_tokens, embedding_dim))\n",
        "for word, i in word_index.items():\n",
        "    embedding_vector = embeddings_index.get(word.decode('utf-8'))\n",
        "    if embedding_vector is not None:\n",
        "        # Words not found in embedding index will be all-zeros.\n",
        "        # This includes the representation for \"padding\" and \"OOV\"\n",
        "        embedding_matrix[i] = embedding_vector\n",
        "        hits += 1\n",
        "    else:\n",
        "      misses += 1\n",
        "print('Converted %d words (%d misses)' % (hits, misses))"
      ],
      "execution_count": 0,
      "outputs": [
        {
          "output_type": "stream",
          "text": [
            "Converted 18010 words (1987 misses)\n"
          ],
          "name": "stdout"
        }
      ]
    },
    {
      "cell_type": "markdown",
      "metadata": {
        "id": "rHOkxiWAZX48",
        "colab_type": "text"
      },
      "source": [
        "Sanity check:"
      ]
    },
    {
      "cell_type": "code",
      "metadata": {
        "id": "8BfjormJZJj3",
        "colab_type": "code",
        "colab": {}
      },
      "source": [
        "i = 3634\n",
        "word = 'cat'\n",
        "np.testing.assert_allclose(embedding_matrix[i], embeddings_index[word])"
      ],
      "execution_count": 0,
      "outputs": []
    },
    {
      "cell_type": "markdown",
      "metadata": {
        "id": "l2yjxUpODAGo",
        "colab_type": "text"
      },
      "source": [
        "Next, we load the pre-trained word embeddings matrix into an `Embedding` layer.\n",
        "\n",
        "Note that we set `trainable=False` so as to keep the embeddings fixed (we don't want to update them during training)."
      ]
    },
    {
      "cell_type": "code",
      "metadata": {
        "id": "CWM5xAc9ZZpK",
        "colab_type": "code",
        "colab": {}
      },
      "source": [
        "from tensorflow.keras.layers import Embedding\n",
        "\n",
        "embedding_layer = Embedding(\n",
        "    num_tokens,\n",
        "    embedding_dim,\n",
        "    embeddings_initializer=keras.initializers.Constant(embedding_matrix),\n",
        "    trainable=False)"
      ],
      "execution_count": 0,
      "outputs": []
    },
    {
      "cell_type": "markdown",
      "metadata": {
        "id": "F5DF2kmZDKAL",
        "colab_type": "text"
      },
      "source": [
        "## Build the model\n",
        "\n",
        "A simple 1D convnet with global max pooling and a classifier at the end."
      ]
    },
    {
      "cell_type": "code",
      "metadata": {
        "id": "ckCKdhOfbl11",
        "colab_type": "code",
        "outputId": "85eee8c4-aab7-4ee1-b701-1f51066fe545",
        "colab": {
          "base_uri": "https://localhost:8080/",
          "height": 550
        }
      },
      "source": [
        "from tensorflow.keras import layers\n",
        "\n",
        "int_sequences_input = keras.Input(shape=(None,), dtype='int64')\n",
        "embedded_sequences = embedding_layer(int_sequences_input)\n",
        "x = layers.Conv1D(128, 5, activation='relu')(embedded_sequences)\n",
        "x = layers.MaxPooling1D(5)(x)\n",
        "x = layers.Conv1D(128, 5, activation='relu')(x)\n",
        "x = layers.MaxPooling1D(5)(x)\n",
        "x = layers.Conv1D(128, 5, activation='relu')(x)\n",
        "x = layers.GlobalMaxPooling1D()(x)\n",
        "x = layers.Dense(128, activation='relu')(x)\n",
        "x = layers.Dropout(0.5)(x)\n",
        "preds = layers.Dense(len(class_names), activation='softmax')(x)\n",
        "model = keras.Model(int_sequences_input, preds)\n",
        "model.summary()"
      ],
      "execution_count": 0,
      "outputs": [
        {
          "output_type": "stream",
          "text": [
            "Model: \"model_2\"\n",
            "_________________________________________________________________\n",
            "Layer (type)                 Output Shape              Param #   \n",
            "=================================================================\n",
            "input_3 (InputLayer)         [(None, None)]            0         \n",
            "_________________________________________________________________\n",
            "embedding (Embedding)        (None, None, 100)         2000100   \n",
            "_________________________________________________________________\n",
            "conv1d_6 (Conv1D)            (None, None, 128)         64128     \n",
            "_________________________________________________________________\n",
            "max_pooling1d_4 (MaxPooling1 (None, None, 128)         0         \n",
            "_________________________________________________________________\n",
            "conv1d_7 (Conv1D)            (None, None, 128)         82048     \n",
            "_________________________________________________________________\n",
            "max_pooling1d_5 (MaxPooling1 (None, None, 128)         0         \n",
            "_________________________________________________________________\n",
            "conv1d_8 (Conv1D)            (None, None, 128)         82048     \n",
            "_________________________________________________________________\n",
            "global_max_pooling1d_2 (Glob (None, 128)               0         \n",
            "_________________________________________________________________\n",
            "dense_4 (Dense)              (None, 128)               16512     \n",
            "_________________________________________________________________\n",
            "dropout_1 (Dropout)          (None, 128)               0         \n",
            "_________________________________________________________________\n",
            "dense_5 (Dense)              (None, 20)                2580      \n",
            "=================================================================\n",
            "Total params: 2,247,416\n",
            "Trainable params: 247,316\n",
            "Non-trainable params: 2,000,100\n",
            "_________________________________________________________________\n"
          ],
          "name": "stdout"
        }
      ]
    },
    {
      "cell_type": "markdown",
      "metadata": {
        "id": "Yl_mFYN6QE1C",
        "colab_type": "text"
      },
      "source": [
        "## Train the model\n",
        "\n",
        "First, convert our list-of-strings data to NumPy arrays of integer indices. The arrays are right-padded."
      ]
    },
    {
      "cell_type": "code",
      "metadata": {
        "id": "HLxKYOGe8PSV",
        "colab_type": "code",
        "colab": {}
      },
      "source": [
        "x_train = vectorizer([[s] for s in train_samples]).numpy()\n",
        "x_val = vectorizer([[s] for s in val_samples]).numpy()\n",
        "\n",
        "y_train = np.array(train_labels)\n",
        "y_val = np.array(val_labels)"
      ],
      "execution_count": 0,
      "outputs": []
    },
    {
      "cell_type": "markdown",
      "metadata": {
        "id": "tj1451hSbkcN",
        "colab_type": "text"
      },
      "source": [
        "We use categorical crossentropy as our loss since we're doing softmax classification. Moreover, we use `sparse_categorical_crossentropy` since our labels are integers."
      ]
    },
    {
      "cell_type": "code",
      "metadata": {
        "id": "tWHQUqMHdOHA",
        "colab_type": "code",
        "outputId": "88229800-0b50-41f9-8583-d78ab8243d1d",
        "colab": {
          "base_uri": "https://localhost:8080/",
          "height": 745
        }
      },
      "source": [
        "model.compile(loss='sparse_categorical_crossentropy',\n",
        "              optimizer='rmsprop',\n",
        "              metrics=['acc'])\n",
        "model.fit(x_train, y_train, batch_size=128,\n",
        "          epochs=20, validation_data=(x_val, y_val))"
      ],
      "execution_count": 0,
      "outputs": [
        {
          "output_type": "stream",
          "text": [
            "Epoch 1/20\n",
            "125/125 [==============================] - 3s 21ms/step - loss: 2.6575 - acc: 0.1403 - val_loss: 2.1069 - val_acc: 0.2798\n",
            "Epoch 2/20\n",
            "125/125 [==============================] - 2s 18ms/step - loss: 1.9279 - acc: 0.3316 - val_loss: 1.5280 - val_acc: 0.4719\n",
            "Epoch 3/20\n",
            "125/125 [==============================] - 2s 18ms/step - loss: 1.5156 - acc: 0.4777 - val_loss: 1.2984 - val_acc: 0.5599\n",
            "Epoch 4/20\n",
            "125/125 [==============================] - 2s 17ms/step - loss: 1.2705 - acc: 0.5647 - val_loss: 1.2549 - val_acc: 0.5899\n",
            "Epoch 5/20\n",
            "125/125 [==============================] - 2s 17ms/step - loss: 1.1137 - acc: 0.6180 - val_loss: 1.1411 - val_acc: 0.6229\n",
            "Epoch 6/20\n",
            "125/125 [==============================] - 2s 18ms/step - loss: 0.9780 - acc: 0.6647 - val_loss: 1.1147 - val_acc: 0.6279\n",
            "Epoch 7/20\n",
            "125/125 [==============================] - 2s 17ms/step - loss: 0.8755 - acc: 0.6998 - val_loss: 1.0202 - val_acc: 0.6542\n",
            "Epoch 8/20\n",
            "125/125 [==============================] - 2s 17ms/step - loss: 0.7770 - acc: 0.7320 - val_loss: 1.0266 - val_acc: 0.6644\n",
            "Epoch 9/20\n",
            "125/125 [==============================] - 2s 17ms/step - loss: 0.6757 - acc: 0.7626 - val_loss: 1.0939 - val_acc: 0.6487\n",
            "Epoch 10/20\n",
            "125/125 [==============================] - 2s 18ms/step - loss: 0.6018 - acc: 0.7894 - val_loss: 1.0099 - val_acc: 0.6697\n",
            "Epoch 11/20\n",
            "125/125 [==============================] - 2s 17ms/step - loss: 0.5194 - acc: 0.8171 - val_loss: 0.9667 - val_acc: 0.6919\n",
            "Epoch 12/20\n",
            "125/125 [==============================] - 2s 18ms/step - loss: 0.4571 - acc: 0.8407 - val_loss: 1.0507 - val_acc: 0.6834\n",
            "Epoch 13/20\n",
            "125/125 [==============================] - 2s 17ms/step - loss: 0.3972 - acc: 0.8655 - val_loss: 1.3092 - val_acc: 0.6549\n",
            "Epoch 14/20\n",
            "125/125 [==============================] - 2s 17ms/step - loss: 0.3442 - acc: 0.8799 - val_loss: 1.1758 - val_acc: 0.6952\n",
            "Epoch 15/20\n",
            "125/125 [==============================] - 2s 18ms/step - loss: 0.3087 - acc: 0.8937 - val_loss: 1.2000 - val_acc: 0.6987\n",
            "Epoch 16/20\n",
            "125/125 [==============================] - 2s 17ms/step - loss: 0.2737 - acc: 0.9081 - val_loss: 1.2080 - val_acc: 0.7047\n",
            "Epoch 17/20\n",
            "125/125 [==============================] - 2s 17ms/step - loss: 0.2509 - acc: 0.9138 - val_loss: 1.1896 - val_acc: 0.7002\n",
            "Epoch 18/20\n",
            "125/125 [==============================] - 2s 18ms/step - loss: 0.2208 - acc: 0.9261 - val_loss: 1.5565 - val_acc: 0.6677\n",
            "Epoch 19/20\n",
            "125/125 [==============================] - 2s 18ms/step - loss: 0.2066 - acc: 0.9299 - val_loss: 1.2943 - val_acc: 0.6979\n",
            "Epoch 20/20\n",
            "125/125 [==============================] - 2s 17ms/step - loss: 0.1807 - acc: 0.9392 - val_loss: 1.5553 - val_acc: 0.6649\n"
          ],
          "name": "stdout"
        },
        {
          "output_type": "execute_result",
          "data": {
            "text/plain": [
              "<tensorflow.python.keras.callbacks.History at 0x7f99ce025128>"
            ]
          },
          "metadata": {
            "tags": []
          },
          "execution_count": 30
        }
      ]
    },
    {
      "cell_type": "markdown",
      "metadata": {
        "id": "O0fEHb1ncc3J",
        "colab_type": "text"
      },
      "source": [
        "## Export an end-to-end model\n",
        "\n",
        "Now, we may want to export a `Model` object that takes as input a string of arbitrary length, rather than a sequence of indices. It would make the model much more portable, since you wouldn't have to worry about the input preprocessing pipeline.\n",
        "\n",
        "Our `vectorizer` is actually a Keras layer, so it's simple:"
      ]
    },
    {
      "cell_type": "code",
      "metadata": {
        "id": "uaEtxzTlQVz_",
        "colab_type": "code",
        "colab": {}
      },
      "source": [
        "string_input = keras.Input(shape=(1,), dtype='string')\n",
        "x = vectorizer(string_input)\n",
        "preds = model(x)\n",
        "end_to_end_model = keras.Model(string_input, preds)"
      ],
      "execution_count": 0,
      "outputs": []
    },
    {
      "cell_type": "code",
      "metadata": {
        "id": "BO8l7MdVdI2u",
        "colab_type": "code",
        "colab": {}
      },
      "source": [
        "probabilities = end_to_end_model.predict([['this message is about computer graphics and 3D modeling']])"
      ],
      "execution_count": 0,
      "outputs": []
    },
    {
      "cell_type": "code",
      "metadata": {
        "id": "bz9PwLLldaqA",
        "colab_type": "code",
        "outputId": "a434b017-20e8-490c-8463-b88d9f7452d5",
        "colab": {
          "base_uri": "https://localhost:8080/",
          "height": 34
        }
      },
      "source": [
        "class_names[np.argmax(probabilities[0])]"
      ],
      "execution_count": 0,
      "outputs": [
        {
          "output_type": "execute_result",
          "data": {
            "text/plain": [
              "'comp.graphics'"
            ]
          },
          "metadata": {
            "tags": []
          },
          "execution_count": 40
        }
      ]
    },
    {
      "cell_type": "code",
      "metadata": {
        "id": "ArpkzeLseI9r",
        "colab_type": "code",
        "colab": {}
      },
      "source": [
        ""
      ],
      "execution_count": 0,
      "outputs": []
    }
  ]
}