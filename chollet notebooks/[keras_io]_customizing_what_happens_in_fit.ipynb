{
  "nbformat": 4,
  "nbformat_minor": 0,
  "metadata": {
    "colab": {
      "name": "Copy of [keras.io] customizing_what_happens_in_fit.ipynb",
      "provenance": []
    },
    "kernelspec": {
      "name": "python3",
      "display_name": "Python 3"
    },
    "accelerator": "GPU"
  },
  "cells": [
    {
      "cell_type": "markdown",
      "metadata": {
        "id": "poK9I4m9wSTW",
        "colab_type": "text"
      },
      "source": [
        "# Customizing what happens in `fit()`"
      ]
    },
    {
      "cell_type": "markdown",
      "metadata": {
        "id": "NJb_eBKEwXS6",
        "colab_type": "text"
      },
      "source": [
        "## Introduction\n",
        "\n",
        "When you're doing supervised learning, you can use `fit()` and everything works smoothly.\n",
        "\n",
        "When you need to write your own training loop from scratch, you can use the `GradientTape` and take control of every little detail.\n",
        "\n",
        "But what if you need a custom training algorithm, but you still want to benefit from the convenient features of `fit()`, such as callbacks, built-in distribution support, or step fusing?\n",
        "\n",
        "A core principle of Keras is **progressive disclosure of complexity**. You should always be able to get into lower-level workflows in a gradual way. You shouldn't fall off a cliff if the high-level functionality doesn't exactly match your use case. You should be able to gain more control over the small details while retaing a commensurate amount of high-level convenience. \n",
        "\n",
        "When you need to customize what `fit()` does, you should **override the training step function of the `Model` class**. This is the function that is called by `fit()` for every batch of data. You will then be able to call `fit()` as usual -- and it will be running your own learning algorithm.\n",
        "\n",
        "Note that this pattern does not prevent you from building models with the Functional API. You can do this whether you're building `Sequential` models, Functional API models, or subclassed models.\n",
        "\n",
        "Let's see how that works."
      ]
    },
    {
      "cell_type": "markdown",
      "metadata": {
        "id": "E6R34jh5xKkW",
        "colab_type": "text"
      },
      "source": [
        "## Setup"
      ]
    },
    {
      "cell_type": "code",
      "metadata": {
        "id": "3eLP4fR6wCYc",
        "colab_type": "code",
        "outputId": "bb4951b8-c368-43e7-ddb2-6359942254b2",
        "colab": {
          "base_uri": "https://localhost:8080/",
          "height": 34
        }
      },
      "source": [
        "import tensorflow as tf\n",
        "from tensorflow import keras\n",
        "keras.backend.clear_session()\n",
        "tf.__version__"
      ],
      "execution_count": 0,
      "outputs": [
        {
          "output_type": "execute_result",
          "data": {
            "text/plain": [
              "'2.2.0-rc2'"
            ]
          },
          "metadata": {
            "tags": []
          },
          "execution_count": 1
        }
      ]
    },
    {
      "cell_type": "markdown",
      "metadata": {
        "id": "5F8q4oByxt2T",
        "colab_type": "text"
      },
      "source": [
        "## A first simple example\n",
        "\n",
        "Let's start from a simple example:\n",
        "\n",
        "- We create a new class that subclasses `keras.Model`.\n",
        "- We just override the method `train_step(self, data)`.\n",
        "- We return a dictionary mapping metric names (including the loss) to their current value.\n",
        "\n",
        "The input argument `data` is what gets passed to fit as training data:\n",
        "\n",
        "- If you pass Numpy arrays, by calling `fit(x, y, ...)`, then `data` will be the tuple `(x, y)`\n",
        "- If you pass a `tf.data.Dataset`, by calling `fit(dataset, ...)`, then `data` will be what gets yielded by `dataset` at each batch.\n",
        "\n",
        "In the body of the `train_step` method, we implement a regular training update,\n",
        "similar to what you are already familiar with. Importantly, **we compute the loss via `self.compiled_loss`**, which wraps the loss(es) function(s) that were passed to `compile()`.\n",
        "\n",
        "Similarly, we call `self.compiled_metrics.update_state(y, y_pred)` to update the state of the metrics that were passed in `compile()`, and we query results from `self.metrics` at the end to retrieve their current value."
      ]
    },
    {
      "cell_type": "code",
      "metadata": {
        "id": "MbTkRLQUxQmC",
        "colab_type": "code",
        "colab": {}
      },
      "source": [
        "class CustomModel(keras.Model):\n",
        "\n",
        "  def train_step(self, data):\n",
        "    # Unpack the data. Its structure depends on your model and\n",
        "    # on what you pass to `fit()`.\n",
        "    x, y = data\n",
        "\n",
        "    with tf.GradientTape() as tape:\n",
        "      y_pred = self(x, training=True)  # Forward pass\n",
        "      # Compute the loss value\n",
        "      # (the loss function is configured in `compile()`)\n",
        "      loss = self.compiled_loss(y, y_pred,\n",
        "                                regularization_losses=self.losses)\n",
        "\n",
        "    # Compute gradients\n",
        "    trainable_vars = self.trainable_variables\n",
        "    gradients = tape.gradient(loss, trainable_vars)\n",
        "    # Update weights\n",
        "    self.optimizer.apply_gradients(zip(gradients, trainable_vars))\n",
        "    # Update metrics (includes the metric that tracks the loss)\n",
        "    self.compiled_metrics.update_state(y, y_pred)\n",
        "    # Return a dict mapping metric names to current value\n",
        "    return {m.name: m.result() for m in self.metrics}"
      ],
      "execution_count": 0,
      "outputs": []
    },
    {
      "cell_type": "markdown",
      "metadata": {
        "id": "nAEiVP4IzNj-",
        "colab_type": "text"
      },
      "source": [
        "Let's try this out:"
      ]
    },
    {
      "cell_type": "code",
      "metadata": {
        "id": "AlUHnIG6zPV9",
        "colab_type": "code",
        "outputId": "63d1b512-3db3-474c-a80f-c21910aa1474",
        "colab": {
          "base_uri": "https://localhost:8080/",
          "height": 141
        }
      },
      "source": [
        "import numpy as np\n",
        "\n",
        "# Construct and compile an instance of CustomModel\n",
        "inputs = keras.Input(shape=(32,))\n",
        "outputs = keras.layers.Dense(1)(inputs)\n",
        "model = CustomModel(inputs, outputs)\n",
        "model.compile(optimizer='adam', loss='mse', metrics=['mae'])\n",
        "\n",
        "# Just use `fit` as usual\n",
        "x = np.random.random((1000, 32))\n",
        "y = np.random.random((1000, 1))\n",
        "model.fit(x, y, epochs=3)"
      ],
      "execution_count": 0,
      "outputs": [
        {
          "output_type": "stream",
          "text": [
            "Epoch 1/3\n",
            "32/32 [==============================] - 0s 3ms/step - loss: 0.8645 - mae: 0.8135\n",
            "Epoch 2/3\n",
            "32/32 [==============================] - 0s 2ms/step - loss: 0.3475 - mae: 0.4823\n",
            "Epoch 3/3\n",
            "32/32 [==============================] - 0s 2ms/step - loss: 0.2342 - mae: 0.3903\n"
          ],
          "name": "stdout"
        },
        {
          "output_type": "execute_result",
          "data": {
            "text/plain": [
              "<tensorflow.python.keras.callbacks.History at 0x7f6b302f39e8>"
            ]
          },
          "metadata": {
            "tags": []
          },
          "execution_count": 3
        }
      ]
    },
    {
      "cell_type": "markdown",
      "metadata": {
        "id": "NGJgVd9lzkQc",
        "colab_type": "text"
      },
      "source": [
        "## Going lower-level\n",
        "\n",
        "Naturally, you could just skip passing a loss function in `compile()`, and instead do everything *manually* in `train_step`. Likewise for metrics. Here's a lower-level example, that only uses `compile()` to configure the optimizer:"
      ]
    },
    {
      "cell_type": "code",
      "metadata": {
        "id": "VwrTvvWTzUn9",
        "colab_type": "code",
        "outputId": "6dc7251e-7ca0-41ea-d16d-6439e939d53a",
        "colab": {
          "base_uri": "https://localhost:8080/",
          "height": 141
        }
      },
      "source": [
        "mae_metric = keras.metrics.MeanAbsoluteError(name='mae')\n",
        "loss_tracker = keras.metrics.Mean(name='loss')\n",
        "\n",
        "class CustomModel(keras.Model):\n",
        "\n",
        "  def train_step(self, data):\n",
        "    x, y = data\n",
        "\n",
        "    with tf.GradientTape() as tape:\n",
        "      y_pred = self(x, training=True)  # Forward pass\n",
        "      # Compute our own loss\n",
        "      loss = keras.losses.mean_squared_error(y, y_pred)\n",
        "\n",
        "    # Compute gradients\n",
        "    trainable_vars = self.trainable_variables\n",
        "    gradients = tape.gradient(loss, trainable_vars)\n",
        "\n",
        "    # Update weights\n",
        "    self.optimizer.apply_gradients(zip(gradients, trainable_vars))\n",
        "\n",
        "    # Compute our own metrics\n",
        "    loss_tracker.update_state(loss)\n",
        "    mae_metric.update_state(y, y_pred)\n",
        "    return {'loss': loss_tracker.result(), 'mae': mae_metric.result()}\n",
        "\n",
        "# Construct an instance of CustomModel\n",
        "inputs = keras.Input(shape=(32,))\n",
        "outputs = keras.layers.Dense(1)(inputs)\n",
        "model = CustomModel(inputs, outputs)\n",
        "\n",
        "# We don't passs a loss or metrics here.\n",
        "model.compile(optimizer='adam')\n",
        "\n",
        "# Just use `fit` as usual -- you can use callbacks, etc.\n",
        "x = np.random.random((1000, 32))\n",
        "y = np.random.random((1000, 1))\n",
        "model.fit(x, y, epochs=3)"
      ],
      "execution_count": 0,
      "outputs": [
        {
          "output_type": "stream",
          "text": [
            "Epoch 1/3\n",
            "32/32 [==============================] - 0s 2ms/step - loss: 0.6201 - mae: 0.6775\n",
            "Epoch 2/3\n",
            "32/32 [==============================] - 0s 2ms/step - loss: 0.4161 - mae: 0.5304\n",
            "Epoch 3/3\n",
            "32/32 [==============================] - 0s 2ms/step - loss: 0.3258 - mae: 0.4598\n"
          ],
          "name": "stdout"
        },
        {
          "output_type": "execute_result",
          "data": {
            "text/plain": [
              "<tensorflow.python.keras.callbacks.History at 0x7f6b301ce198>"
            ]
          },
          "metadata": {
            "tags": []
          },
          "execution_count": 4
        }
      ]
    },
    {
      "cell_type": "markdown",
      "metadata": {
        "id": "vVZtc6P61icn",
        "colab_type": "text"
      },
      "source": [
        "## Supporting `sample_weight` & `class_weight`\n",
        "\n",
        "You may have noticed that our first basic example didn't make any mention of sample weighting. If you want to support the `fit()` arguments `sample_weight` and `class_weight`, you'd simply do the following:\n",
        "\n",
        "- Unpack `sample_weight` from the `data` argument\n",
        "- Pass it to `compiled_loss` & `compiled_metrics` (of course, you could also just apply it manually if you don't rely on `compile()` for losses & metrics)\n",
        "- That's it. That's the list."
      ]
    },
    {
      "cell_type": "code",
      "metadata": {
        "id": "ytKzLN_701pf",
        "colab_type": "code",
        "outputId": "fd5821fd-2352-440e-9e82-57d43eeff420",
        "colab": {
          "base_uri": "https://localhost:8080/",
          "height": 141
        }
      },
      "source": [
        "class CustomModel(keras.Model):\n",
        "\n",
        "  def train_step(self, data):\n",
        "    # Unpack the data. Its structure depends on your model and\n",
        "    # on what you pass to `fit()`.\n",
        "    if len(data) == 3:\n",
        "        x, y, sample_weight = data\n",
        "    else:\n",
        "        x, y = data\n",
        "\n",
        "    with tf.GradientTape() as tape:\n",
        "      y_pred = self(x, training=True)  # Forward pass\n",
        "      # Compute the loss value.\n",
        "      # The loss function is configured in `compile()`.\n",
        "      loss = self.compiled_loss(y, y_pred,\n",
        "                                sample_weight=sample_weight,\n",
        "                                regularization_losses=self.losses)\n",
        "\n",
        "    # Compute gradients\n",
        "    trainable_vars = self.trainable_variables\n",
        "    gradients = tape.gradient(loss, trainable_vars)\n",
        "\n",
        "    # Update weights\n",
        "    self.optimizer.apply_gradients(zip(gradients, trainable_vars))\n",
        "\n",
        "    # Update the metrics.\n",
        "    # Metrics are configured in `compile()`.\n",
        "    self.compiled_metrics.update_state(\n",
        "        y, y_pred, sample_weight=sample_weight)\n",
        "\n",
        "    # Return a dict mapping metric names to current value.\n",
        "    # Note that it will include the loss (tracked in self.metrics).\n",
        "    return {m.name: m.result() for m in self.metrics}\n",
        "\n",
        "\n",
        "# Construct and compile an instance of CustomModel\n",
        "inputs = keras.Input(shape=(32,))\n",
        "outputs = keras.layers.Dense(1)(inputs)\n",
        "model = CustomModel(inputs, outputs)\n",
        "model.compile(optimizer='adam', loss='mse', metrics=['mae'])\n",
        "\n",
        "# You can now use sample_weight argument\n",
        "x = np.random.random((1000, 32))\n",
        "y = np.random.random((1000, 1))\n",
        "sw = np.random.random((1000, 1))\n",
        "model.fit(x, y, sample_weight=sw, epochs=3)"
      ],
      "execution_count": 0,
      "outputs": [
        {
          "output_type": "stream",
          "text": [
            "Epoch 1/3\n",
            "32/32 [==============================] - 0s 2ms/step - loss: 0.2860 - mae: 0.6190\n",
            "Epoch 2/3\n",
            "32/32 [==============================] - 0s 2ms/step - loss: 0.1520 - mae: 0.4472\n",
            "Epoch 3/3\n",
            "32/32 [==============================] - 0s 2ms/step - loss: 0.1438 - mae: 0.4295\n"
          ],
          "name": "stdout"
        },
        {
          "output_type": "execute_result",
          "data": {
            "text/plain": [
              "<tensorflow.python.keras.callbacks.History at 0x7f6b301007b8>"
            ]
          },
          "metadata": {
            "tags": []
          },
          "execution_count": 5
        }
      ]
    },
    {
      "cell_type": "markdown",
      "metadata": {
        "id": "rn1q6NCP2dtR",
        "colab_type": "text"
      },
      "source": [
        "## Providing your own evaluation step\n",
        "\n",
        "What if you want to do the same for calls to `model.evaluate()`? Then you would override `test_step` in exactly the same way. Here's what it looks like:"
      ]
    },
    {
      "cell_type": "code",
      "metadata": {
        "id": "pkdyqQyO1-E3",
        "colab_type": "code",
        "outputId": "a4127c33-3841-4577-8c69-cf2c303f33eb",
        "colab": {
          "base_uri": "https://localhost:8080/",
          "height": 52
        }
      },
      "source": [
        "class CustomModel(keras.Model):\n",
        "\n",
        "  def test_step(self, data):\n",
        "    # Unpack the data\n",
        "    x, y = data\n",
        "    # Compute predictions\n",
        "    y_pred = self(x, training=False)\n",
        "    # Updates the metrics tracking the loss\n",
        "    self.compiled_loss(\n",
        "        y, y_pred, regularization_losses=self.losses)\n",
        "    # Update the metrics.\n",
        "    self.compiled_metrics.update_state(y, y_pred)\n",
        "    # Return a dict mapping metric names to current value.\n",
        "    # Note that it will include the loss (tracked in self.metrics).\n",
        "    return {m.name: m.result() for m in self.metrics}\n",
        "\n",
        "# Construct an instance of CustomModel\n",
        "inputs = keras.Input(shape=(32,))\n",
        "outputs = keras.layers.Dense(1)(inputs)\n",
        "model = CustomModel(inputs, outputs)\n",
        "model.compile(loss='mse', metrics=['mae'])\n",
        "\n",
        "# Evaluate with our custom test_step\n",
        "x = np.random.random((1000, 32))\n",
        "y = np.random.random((1000, 1))\n",
        "model.evaluate(x, y)"
      ],
      "execution_count": 0,
      "outputs": [
        {
          "output_type": "stream",
          "text": [
            "32/32 [==============================] - 0s 1ms/step - loss: 0.6437 - mae: 0.6758\n"
          ],
          "name": "stdout"
        },
        {
          "output_type": "execute_result",
          "data": {
            "text/plain": [
              "[0.6436765193939209, 0.6757748126983643]"
            ]
          },
          "metadata": {
            "tags": []
          },
          "execution_count": 6
        }
      ]
    },
    {
      "cell_type": "markdown",
      "metadata": {
        "id": "9-CMpP5a3Wcp",
        "colab_type": "text"
      },
      "source": [
        "## Wrapping up: an end-to-end GAN example\n",
        "\n",
        "Let's walk through an end-to-end example that leverages everything you just learned.\n",
        "\n",
        "Let's consider:\n",
        "\n",
        "- A generator network meant to generate 28x28x1 images.\n",
        "- A discriminator network meant to classify 28x28x1 images into two classes (\"fake\" and \"real\").\n",
        "\n"
      ]
    },
    {
      "cell_type": "code",
      "metadata": {
        "id": "WS3YC3or4xbp",
        "colab_type": "code",
        "colab": {}
      },
      "source": [
        "from tensorflow.keras import layers\n",
        "\n",
        "# Create the discriminator\n",
        "discriminator = keras.Sequential([\n",
        "  keras.Input(shape=(28, 28, 1)),\n",
        "  layers.Conv2D(64, (3, 3), strides=(2, 2), padding='same'),\n",
        "  layers.LeakyReLU(alpha=0.2),\n",
        "  layers.Conv2D(128, (3, 3), strides=(2, 2), padding='same'),\n",
        "  layers.LeakyReLU(alpha=0.2),\n",
        "  layers.GlobalMaxPooling2D(),\n",
        "  layers.Dense(1)\n",
        "], name='discriminator')\n",
        "\n",
        "# Create the generator\n",
        "latent_dim = 128\n",
        "generator = keras.Sequential([\n",
        "  keras.Input(shape=(latent_dim,)),\n",
        "  # We want to generate 128 coefficients to reshape into a 7x7x128 map\n",
        "  layers.Dense(7 * 7 * 128),\n",
        "  layers.LeakyReLU(alpha=0.2),\n",
        "  layers.Reshape((7, 7, 128)),\n",
        "  layers.Conv2DTranspose(128, (4, 4), strides=(2, 2), padding='same'),\n",
        "  layers.LeakyReLU(alpha=0.2),\n",
        "  layers.Conv2DTranspose(128, (4, 4), strides=(2, 2), padding='same'),\n",
        "  layers.LeakyReLU(alpha=0.2),\n",
        "  layers.Conv2D(1, (7, 7), padding='same', activation='sigmoid')\n",
        "], name='generator')"
      ],
      "execution_count": 0,
      "outputs": []
    },
    {
      "cell_type": "markdown",
      "metadata": {
        "id": "POY42XRf5Jbd",
        "colab_type": "text"
      },
      "source": [
        "Here's a feature-complete GAN class, overriding `compile()` to use its own signature, and implementing the entire GAN algorithm in 17 lines in `train_step`:"
      ]
    },
    {
      "cell_type": "code",
      "metadata": {
        "id": "iyKOtjfn5RL3",
        "colab_type": "code",
        "colab": {}
      },
      "source": [
        "class GAN(keras.Model):\n",
        "  def __init__(self, discriminator, generator, latent_dim):\n",
        "    super(GAN, self).__init__()\n",
        "    self.discriminator = discriminator\n",
        "    self.generator = generator\n",
        "    self.latent_dim = latent_dim\n",
        "\n",
        "  def compile(self, d_optimizer, g_optimizer, loss_fn):\n",
        "    super(GAN, self).compile()\n",
        "    self.d_optimizer = d_optimizer\n",
        "    self.g_optimizer = g_optimizer\n",
        "    self.loss_fn = loss_fn\n",
        "\n",
        "  def train_step(self, real_images):\n",
        "    # Sample random points in the latent space\n",
        "    batch_size = tf.shape(real_images)[0]\n",
        "    random_latent_vectors = tf.random.normal(shape=(batch_size, self.latent_dim))\n",
        "\n",
        "    # Decode them to fake images\n",
        "    generated_images = self.generator(random_latent_vectors)\n",
        "    # Combine them with real images\n",
        "    combined_images = tf.concat([generated_images, real_images], axis=0)\n",
        "\n",
        "    # Assemble labels discriminating real from fake images\n",
        "    labels = tf.concat([tf.ones((batch_size, 1)),\n",
        "                        tf.zeros((batch_size, 1))], axis=0)\n",
        "    # Add random noise to the labels - important trick!\n",
        "    labels += 0.05 * tf.random.uniform(tf.shape(labels))\n",
        "\n",
        "    # Train the discriminator\n",
        "    with tf.GradientTape() as tape:\n",
        "      predictions = self.discriminator(combined_images)\n",
        "      d_loss = self.loss_fn(labels, predictions)\n",
        "    grads = tape.gradient(d_loss, self.discriminator.trainable_weights)\n",
        "    self.d_optimizer.apply_gradients(zip(grads, self.discriminator.trainable_weights))\n",
        "\n",
        "    # Sample random points in the latent space\n",
        "    random_latent_vectors = tf.random.normal(shape=(batch_size, self.latent_dim))\n",
        "    # Assemble labels that say \"all real images\"\n",
        "    misleading_labels = tf.zeros((batch_size, 1))\n",
        "\n",
        "    # Train the generator (note that we should *not* update the weights\n",
        "    # of the discriminator)!\n",
        "    with tf.GradientTape() as tape:\n",
        "      predictions = self.discriminator(self.generator(random_latent_vectors))\n",
        "      g_loss = self.loss_fn(misleading_labels, predictions)\n",
        "    grads = tape.gradient(g_loss, self.generator.trainable_weights)\n",
        "    self.g_optimizer.apply_gradients(zip(grads, self.generator.trainable_weights))\n",
        "    return {'d_loss': d_loss, 'g_loss': g_loss}"
      ],
      "execution_count": 0,
      "outputs": []
    },
    {
      "cell_type": "markdown",
      "metadata": {
        "id": "zYGZRIJh6ZYu",
        "colab_type": "text"
      },
      "source": [
        "Let's test-drive it:"
      ]
    },
    {
      "cell_type": "code",
      "metadata": {
        "id": "kailUGN3A8K3",
        "colab_type": "code",
        "colab": {}
      },
      "source": [
        "# Prepare the dataset. We use both the training & test MNIST digits.\n",
        "batch_size = 64\n",
        "(x_train, _), (x_test, _) = keras.datasets.mnist.load_data()\n",
        "all_digits = np.concatenate([x_train, x_test])\n",
        "all_digits = all_digits.astype('float32') / 255.\n",
        "all_digits = np.reshape(all_digits, (-1, 28, 28, 1))\n",
        "dataset = tf.data.Dataset.from_tensor_slices(all_digits)\n",
        "dataset = dataset.shuffle(buffer_size=1024).batch(batch_size)"
      ],
      "execution_count": 0,
      "outputs": []
    },
    {
      "cell_type": "code",
      "metadata": {
        "id": "v6AD-VMd6Zym",
        "colab_type": "code",
        "outputId": "87f1412b-40f5-496d-a4dc-207cb1fc6370",
        "colab": {
          "base_uri": "https://localhost:8080/",
          "height": 87
        }
      },
      "source": [
        "gan = GAN(discriminator=discriminator,\n",
        "          generator=generator,\n",
        "          latent_dim=latent_dim)\n",
        "gan.compile(d_optimizer=keras.optimizers.Adam(learning_rate=0.0003),\n",
        "            g_optimizer=keras.optimizers.Adam(learning_rate=0.0003),\n",
        "            loss_fn=keras.losses.BinaryCrossentropy(from_logits=True))\n",
        "\n",
        "gan.fit(dataset, epochs=2)"
      ],
      "execution_count": 0,
      "outputs": [
        {
          "output_type": "stream",
          "text": [
            "Epoch 1/2\n",
            "1094/1094 [==============================] - 18s 16ms/step - d_loss: 0.6009 - g_loss: 1.1667\n",
            "Epoch 2/2\n",
            " 586/1094 [===============>..............] - ETA: 8s - d_loss: 0.6654 - g_loss: 0.9211"
          ],
          "name": "stdout"
        }
      ]
    },
    {
      "cell_type": "markdown",
      "metadata": {
        "id": "M9Fz5_u68FqW",
        "colab_type": "text"
      },
      "source": [
        "The idea behind deep learning are simple, so why should their implementation be painful?"
      ]
    }
  ]
}