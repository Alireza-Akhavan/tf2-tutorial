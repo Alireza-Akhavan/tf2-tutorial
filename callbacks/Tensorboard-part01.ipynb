{
 "cells": [
  {
   "cell_type": "code",
   "execution_count": 1,
   "metadata": {},
   "outputs": [],
   "source": [
    "import tensorflow as tf\n",
    "from tensorflow.keras.callbacks import TensorBoard\n",
    "import os\n",
    "import datetime"
   ]
  },
  {
   "cell_type": "markdown",
   "metadata": {},
   "source": [
    "In this notebook, we are going to use the MNIST dataset. "
   ]
  },
  {
   "cell_type": "code",
   "execution_count": 2,
   "metadata": {},
   "outputs": [],
   "source": [
    "mnist = tf.keras.datasets.mnist\n",
    "\n",
    "(x_train, y_train),(x_test, y_test) = mnist.load_data()\n",
    "x_train, x_test = x_train / 255.0, x_test / 255.0"
   ]
  },
  {
   "cell_type": "code",
   "execution_count": 3,
   "metadata": {},
   "outputs": [],
   "source": [
    "def create_model():\n",
    "    return tf.keras.models.Sequential([\n",
    "        tf.keras.layers.Flatten(input_shape=(28, 28)),\n",
    "        tf.keras.layers.Dense(512, activation='relu'),\n",
    "        tf.keras.layers.Dropout(0.2),\n",
    "        tf.keras.layers.Dense(10, activation='softmax')\n",
    "    ])"
   ]
  },
  {
   "cell_type": "code",
   "execution_count": 4,
   "metadata": {},
   "outputs": [],
   "source": [
    "model = create_model()\n",
    "model.compile(optimizer='adam',\n",
    "              loss='sparse_categorical_crossentropy',\n",
    "              metrics=['accuracy'])"
   ]
  },
  {
   "cell_type": "code",
   "execution_count": 5,
   "metadata": {},
   "outputs": [
    {
     "name": "stdout",
     "output_type": "stream",
     "text": [
      "logDir:  .\\logs\\mlp200\\20200423-215634\n"
     ]
    }
   ],
   "source": [
    "logDir = \".\\\\logs\\\\mlp200\\\\\" + datetime.datetime.now().strftime(\"%Y%m%d-%H%M%S\")\n",
    "# logDir = \"logs/mlp200/\" + datetime.datetime.now().strftime(\"%Y%m%d-%H%M%S\") #If you are using linux\n",
    "print(\"logDir: \", logDir)\n",
    "tensorboard_callback = TensorBoard(logDir)"
   ]
  },
  {
   "cell_type": "code",
   "execution_count": 6,
   "metadata": {},
   "outputs": [
    {
     "name": "stdout",
     "output_type": "stream",
     "text": [
      "Train on 60000 samples, validate on 10000 samples\n",
      "Epoch 1/5\n",
      "   32/60000 [..............................] - ETA: 41:45 - loss: 2.3912 - accuracy: 0.1875WARNING:tensorflow:Method (on_train_batch_end) is slow compared to the batch update (0.153998). Check your callbacks.\n",
      "60000/60000 [==============================] - 13s 210us/sample - loss: 0.2189 - accuracy: 0.9349 - val_loss: 0.1135 - val_accuracy: 0.9660\n",
      "Epoch 2/5\n",
      "60000/60000 [==============================] - 13s 208us/sample - loss: 0.0952 - accuracy: 0.9700 - val_loss: 0.0997 - val_accuracy: 0.9673\n",
      "Epoch 3/5\n",
      "60000/60000 [==============================] - 11s 183us/sample - loss: 0.0678 - accuracy: 0.9785 - val_loss: 0.0662 - val_accuracy: 0.9793\n",
      "Epoch 4/5\n",
      "60000/60000 [==============================] - 11s 191us/sample - loss: 0.0533 - accuracy: 0.9825 - val_loss: 0.0761 - val_accuracy: 0.9779\n",
      "Epoch 5/5\n",
      "60000/60000 [==============================] - 10s 167us/sample - loss: 0.0444 - accuracy: 0.9858 - val_loss: 0.0638 - val_accuracy: 0.9817\n"
     ]
    },
    {
     "data": {
      "text/plain": [
       "<tensorflow.python.keras.callbacks.History at 0x1d8261277b8>"
      ]
     },
     "execution_count": 6,
     "metadata": {},
     "output_type": "execute_result"
    }
   ],
   "source": [
    "model.fit(x=x_train, \n",
    "          y=y_train, \n",
    "          epochs=5, \n",
    "          validation_data=(x_test, y_test), \n",
    "          callbacks=[tensorboard_callback])"
   ]
  },
  {
   "cell_type": "code",
   "execution_count": null,
   "metadata": {},
   "outputs": [],
   "source": []
  },
  {
   "cell_type": "code",
   "execution_count": null,
   "metadata": {},
   "outputs": [],
   "source": []
  }
 ],
 "metadata": {
  "kernelspec": {
   "display_name": "tf2-GPU",
   "language": "python",
   "name": "tf2"
  },
  "language_info": {
   "codemirror_mode": {
    "name": "ipython",
    "version": 3
   },
   "file_extension": ".py",
   "mimetype": "text/x-python",
   "name": "python",
   "nbconvert_exporter": "python",
   "pygments_lexer": "ipython3",
   "version": "3.6.9"
  }
 },
 "nbformat": 4,
 "nbformat_minor": 2
}
