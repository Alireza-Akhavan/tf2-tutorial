{
 "cells": [
  {
   "cell_type": "code",
   "execution_count": 1,
   "metadata": {},
   "outputs": [],
   "source": [
    "import tensorflow as tf\n",
    "from tensorflow.keras.callbacks import LambdaCallback"
   ]
  },
  {
   "cell_type": "code",
   "execution_count": 2,
   "metadata": {},
   "outputs": [],
   "source": [
    "mnist = tf.keras.datasets.fashion_mnist\n",
    "\n",
    "(x_train, y_train),(x_test, y_test) = mnist.load_data()\n",
    "x_train, x_test = x_train / 255.0, x_test / 255.0"
   ]
  },
  {
   "cell_type": "code",
   "execution_count": 6,
   "metadata": {},
   "outputs": [
    {
     "name": "stdout",
     "output_type": "stream",
     "text": [
      "Train on 60000 samples\n",
      "0\n",
      "Epoch 1/10\n",
      "60000/60000 [==============================] - 11s 186us/sample - loss: 0.4764 - accuracy: 0.8301\n",
      "1\n",
      "Epoch 2/10\n",
      "60000/60000 [==============================] - 9s 152us/sample - loss: 0.3602 - accuracy: 0.8685\n",
      "2\n",
      "Epoch 3/10\n",
      "60000/60000 [==============================] - 10s 161us/sample - loss: 0.3245 - accuracy: 0.8809\n",
      "3\n",
      "Epoch 4/10\n",
      "60000/60000 [==============================] - 12s 200us/sample - loss: 0.2995 - accuracy: 0.8902\n",
      "4\n",
      "Epoch 5/10\n",
      "60000/60000 [==============================] - 13s 219us/sample - loss: 0.2822 - accuracy: 0.8953\n",
      "5\n",
      "Epoch 6/10\n",
      "60000/60000 [==============================] - 14s 236us/sample - loss: 0.2655 - accuracy: 0.9016\n",
      "6\n",
      "Epoch 7/10\n",
      "60000/60000 [==============================] - 11s 186us/sample - loss: 0.2534 - accuracy: 0.9064\n",
      "7\n",
      "Epoch 8/10\n",
      "60000/60000 [==============================] - 13s 224us/sample - loss: 0.2401 - accuracy: 0.9102\n",
      "8\n",
      "Epoch 9/10\n",
      "60000/60000 [==============================] - 11s 187us/sample - loss: 0.2306 - accuracy: 0.9133\n",
      "9\n",
      "Epoch 10/10\n",
      "60000/60000 [==============================] - 13s 210us/sample - loss: 0.2210 - accuracy: 0.9166\n"
     ]
    },
    {
     "data": {
      "text/plain": [
       "<tensorflow.python.keras.callbacks.History at 0x1f9bfae8d30>"
      ]
     },
     "execution_count": 6,
     "metadata": {},
     "output_type": "execute_result"
    }
   ],
   "source": [
    "model = tf.keras.models.Sequential([\n",
    "  tf.keras.layers.Flatten(input_shape=(28, 28)),\n",
    "  tf.keras.layers.Dense(512, activation=tf.nn.relu),\n",
    "  tf.keras.layers.Dense(10, activation=tf.nn.softmax)\n",
    "])\n",
    "model.compile(optimizer='adam',\n",
    "              loss='sparse_categorical_crossentropy',\n",
    "              metrics=['accuracy'])\n",
    "\n",
    "model.fit(\n",
    "    x_train, y_train, epochs=10,\n",
    "    callbacks=[LambdaCallback(on_epoch_begin=lambda epochs,logs: print(epochs))])"
   ]
  },
  {
   "cell_type": "code",
   "execution_count": null,
   "metadata": {},
   "outputs": [],
   "source": []
  }
 ],
 "metadata": {
  "kernelspec": {
   "display_name": "tf2-GPU",
   "language": "python",
   "name": "tf2"
  },
  "language_info": {
   "codemirror_mode": {
    "name": "ipython",
    "version": 3
   },
   "file_extension": ".py",
   "mimetype": "text/x-python",
   "name": "python",
   "nbconvert_exporter": "python",
   "pygments_lexer": "ipython3",
   "version": "3.6.9"
  }
 },
 "nbformat": 4,
 "nbformat_minor": 2
}
