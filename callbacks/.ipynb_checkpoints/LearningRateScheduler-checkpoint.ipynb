{
 "cells": [
  {
   "cell_type": "code",
   "execution_count": 1,
   "metadata": {},
   "outputs": [],
   "source": [
    "import tensorflow as tf\n",
    "from tensorflow.keras.callbacks import LearningRateScheduler\n",
    "import matplotlib.pyplot as plt\n",
    "%matplotlib inline"
   ]
  },
  {
   "cell_type": "code",
   "execution_count": 2,
   "metadata": {},
   "outputs": [],
   "source": [
    "mnist = tf.keras.datasets.fashion_mnist\n",
    "\n",
    "(x_train, y_train),(x_test, y_test) = mnist.load_data()\n",
    "x_train, x_test = x_train / 255.0, x_test / 255.0"
   ]
  },
  {
   "cell_type": "code",
   "execution_count": 3,
   "metadata": {},
   "outputs": [],
   "source": [
    "def scheduler(epoch):\n",
    "    if epoch < 2:\n",
    "        return 0.001\n",
    "    elif epoch < 6:\n",
    "        return 0.0001\n",
    "    else:\n",
    "        return 0.00001\n",
    "\n",
    "learning_rate_scheduler = LearningRateScheduler(scheduler, verbose=1)"
   ]
  },
  {
   "cell_type": "code",
   "execution_count": 4,
   "metadata": {},
   "outputs": [
    {
     "name": "stdout",
     "output_type": "stream",
     "text": [
      "Train on 60000 samples\n",
      "LearningRate is set to: 0.001\n",
      "Epoch 1/10\n",
      "60000/60000 [==============================] - 11s 180us/sample - loss: 0.4755 - accuracy: 0.8295\n",
      "LearningRate is set to: 0.001\n",
      "Epoch 2/10\n",
      "60000/60000 [==============================] - 10s 171us/sample - loss: 0.3601 - accuracy: 0.8693\n",
      "LearningRate is set to: 0.0001\n",
      "Epoch 3/10\n",
      "60000/60000 [==============================] - 10s 160us/sample - loss: 0.2830 - accuracy: 0.8960\n",
      "LearningRate is set to: 0.0001\n",
      "Epoch 4/10\n",
      "60000/60000 [==============================] - 10s 174us/sample - loss: 0.2710 - accuracy: 0.9000\n",
      "LearningRate is set to: 0.0001\n",
      "Epoch 5/10\n",
      "60000/60000 [==============================] - 10s 168us/sample - loss: 0.2630 - accuracy: 0.9024\n",
      "LearningRate is set to: 0.0001\n",
      "Epoch 6/10\n",
      "60000/60000 [==============================] - 11s 177us/sample - loss: 0.2561 - accuracy: 0.9052\n",
      "LearningRate is set to: 1e-05\n",
      "Epoch 7/10\n",
      "60000/60000 [==============================] - 11s 190us/sample - loss: 0.2452 - accuracy: 0.9090\n",
      "LearningRate is set to: 1e-05\n",
      "Epoch 8/10\n",
      "60000/60000 [==============================] - 10s 169us/sample - loss: 0.2436 - accuracy: 0.9101\n",
      "LearningRate is set to: 1e-05\n",
      "Epoch 9/10\n",
      "60000/60000 [==============================] - 11s 189us/sample - loss: 0.2428 - accuracy: 0.9102\n",
      "LearningRate is set to: 1e-05\n",
      "Epoch 10/10\n",
      "60000/60000 [==============================] - 12s 195us/sample - loss: 0.2419 - accuracy: 0.9110\n"
     ]
    }
   ],
   "source": [
    "model = tf.keras.models.Sequential([\n",
    "  tf.keras.layers.Flatten(input_shape=(28, 28)),\n",
    "  tf.keras.layers.Dense(512, activation=tf.nn.relu),\n",
    "  tf.keras.layers.Dense(10, activation=tf.nn.softmax)\n",
    "])\n",
    "model.compile(optimizer='adam',\n",
    "              loss='sparse_categorical_crossentropy',\n",
    "              metrics=['accuracy'])\n",
    "\n",
    "history = model.fit(x_train, y_train, epochs=10, callbacks=[learning_rate_scheduler])"
   ]
  },
  {
   "cell_type": "code",
   "execution_count": null,
   "metadata": {},
   "outputs": [],
   "source": []
  },
  {
   "cell_type": "code",
   "execution_count": null,
   "metadata": {},
   "outputs": [],
   "source": []
  }
 ],
 "metadata": {
  "kernelspec": {
   "display_name": "tf2-GPU",
   "language": "python",
   "name": "tf2"
  },
  "language_info": {
   "codemirror_mode": {
    "name": "ipython",
    "version": 3
   },
   "file_extension": ".py",
   "mimetype": "text/x-python",
   "name": "python",
   "nbconvert_exporter": "python",
   "pygments_lexer": "ipython3",
   "version": "3.6.9"
  }
 },
 "nbformat": 4,
 "nbformat_minor": 2
}
