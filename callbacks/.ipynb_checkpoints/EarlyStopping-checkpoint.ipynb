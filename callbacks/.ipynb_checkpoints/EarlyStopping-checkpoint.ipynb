{
 "cells": [
  {
   "cell_type": "code",
   "execution_count": 1,
   "metadata": {},
   "outputs": [],
   "source": [
    "import tensorflow as tf\n",
    "from tensorflow.keras.callbacks import EarlyStopping\n",
    "import matplotlib.pyplot as plt\n",
    "%matplotlib inline"
   ]
  },
  {
   "cell_type": "code",
   "execution_count": 2,
   "metadata": {},
   "outputs": [],
   "source": [
    "mnist = tf.keras.datasets.fashion_mnist\n",
    "\n",
    "(x_train, y_train),(x_test, y_test) = mnist.load_data()\n",
    "x_train, x_test = x_train / 255.0, x_test / 255.0"
   ]
  },
  {
   "cell_type": "code",
   "execution_count": 3,
   "metadata": {},
   "outputs": [
    {
     "name": "stdout",
     "output_type": "stream",
     "text": [
      "Train on 48000 samples, validate on 12000 samples\n",
      "Epoch 1/10\n",
      "48000/48000 [==============================] - 9s 196us/sample - loss: 0.4800 - accuracy: 0.8255 - val_loss: 0.3976 - val_accuracy: 0.8562\n",
      "Epoch 2/10\n",
      "48000/48000 [==============================] - 9s 179us/sample - loss: 0.3653 - accuracy: 0.8644 - val_loss: 0.3559 - val_accuracy: 0.8714\n",
      "Epoch 3/10\n",
      "48000/48000 [==============================] - 9s 185us/sample - loss: 0.3326 - accuracy: 0.8778 - val_loss: 0.3958 - val_accuracy: 0.8568\n",
      "Epoch 4/10\n",
      "48000/48000 [==============================] - 9s 191us/sample - loss: 0.3035 - accuracy: 0.8875 - val_loss: 0.3543 - val_accuracy: 0.8711\n",
      "Epoch 5/10\n",
      "48000/48000 [==============================] - 9s 188us/sample - loss: 0.2830 - accuracy: 0.8951 - val_loss: 0.3246 - val_accuracy: 0.8815\n",
      "Epoch 6/10\n",
      "48000/48000 [==============================] - 9s 192us/sample - loss: 0.2688 - accuracy: 0.8984 - val_loss: 0.3331 - val_accuracy: 0.8814\n",
      "Epoch 7/10\n",
      "48000/48000 [==============================] - 10s 205us/sample - loss: 0.2556 - accuracy: 0.9027 - val_loss: 0.3226 - val_accuracy: 0.8866\n",
      "Epoch 8/10\n",
      "48000/48000 [==============================] - 10s 206us/sample - loss: 0.2432 - accuracy: 0.9077 - val_loss: 0.3237 - val_accuracy: 0.8817\n",
      "Epoch 9/10\n",
      "48000/48000 [==============================] - 10s 205us/sample - loss: 0.2320 - accuracy: 0.9115 - val_loss: 0.3374 - val_accuracy: 0.8869\n",
      "Epoch 10/10\n",
      "48000/48000 [==============================] - 9s 198us/sample - loss: 0.2206 - accuracy: 0.9157 - val_loss: 0.3501 - val_accuracy: 0.8890\n"
     ]
    }
   ],
   "source": [
    "model = tf.keras.models.Sequential([\n",
    "  tf.keras.layers.Flatten(input_shape=(28, 28)),\n",
    "  tf.keras.layers.Dense(512, activation=tf.nn.relu),\n",
    "  tf.keras.layers.Dense(512, activation=tf.nn.relu),\n",
    "  tf.keras.layers.Dense(10, activation=tf.nn.softmax)\n",
    "])\n",
    "model.compile(optimizer='adam',\n",
    "              loss='sparse_categorical_crossentropy',\n",
    "              metrics=['accuracy'])\n",
    "\n",
    "history = model.fit(x_train, y_train, validation_split=0.2, epochs=10)"
   ]
  },
  {
   "cell_type": "code",
   "execution_count": 4,
   "metadata": {},
   "outputs": [],
   "source": [
    "def plot_history(history):\n",
    "    acc = history.history['accuracy']\n",
    "    val_acc = history.history['val_accuracy']\n",
    "    loss = history.history['loss']\n",
    "    val_loss = history.history['val_loss']\n",
    "\n",
    "    epochs = range(len(acc))\n",
    "\n",
    "    plt.plot(epochs, acc, 'bo', label='Training acc')\n",
    "    plt.plot(epochs, val_acc, 'b', label='Validation acc')\n",
    "    plt.title('Training and validation accuracy')\n",
    "    plt.legend()\n",
    "\n",
    "    plt.figure()\n",
    "\n",
    "    plt.plot(epochs, loss, 'bo', label='Training loss')\n",
    "    plt.plot(epochs, val_loss, 'b', label='Validation loss')\n",
    "    plt.title('Training and validation loss')\n",
    "    plt.legend()\n",
    "\n",
    "    plt.show()"
   ]
  },
  {
   "cell_type": "code",
   "execution_count": 5,
   "metadata": {},
   "outputs": [
    {
     "data": {
      "image/png": "[encoded data removed]",
      "text/plain": [
       "<Figure size 432x288 with 1 Axes>"
      ]
     },
     "metadata": {
      "needs_background": "light"
     },
     "output_type": "display_data"
    },
    {
     "data": {
      "image/png": "[encoded data removed]",
      "text/plain": [
       "<Figure size 432x288 with 1 Axes>"
      ]
     },
     "metadata": {
      "needs_background": "light"
     },
     "output_type": "display_data"
    }
   ],
   "source": [
    "plot_history(history)"
   ]
  },
  {
   "cell_type": "code",
   "execution_count": 6,
   "metadata": {},
   "outputs": [],
   "source": [
    "early_stopping = EarlyStopping(patience=2, monitor='val_loss')"
   ]
  },
  {
   "cell_type": "code",
   "execution_count": 7,
   "metadata": {},
   "outputs": [
    {
     "name": "stdout",
     "output_type": "stream",
     "text": [
      "Train on 48000 samples, validate on 12000 samples\n",
      "Epoch 1/10\n",
      "48000/48000 [==============================] - 14s 285us/sample - loss: 0.4863 - accuracy: 0.8219 - val_loss: 0.4248 - val_accuracy: 0.8505\n",
      "Epoch 2/10\n",
      "48000/48000 [==============================] - 13s 280us/sample - loss: 0.3653 - accuracy: 0.8637 - val_loss: 0.3558 - val_accuracy: 0.8698\n",
      "Epoch 3/10\n",
      "48000/48000 [==============================] - 11s 224us/sample - loss: 0.3273 - accuracy: 0.8770 - val_loss: 0.3514 - val_accuracy: 0.8712\n",
      "Epoch 4/10\n",
      "48000/48000 [==============================] - 12s 248us/sample - loss: 0.2976 - accuracy: 0.8872 - val_loss: 0.3624 - val_accuracy: 0.8692\n",
      "Epoch 5/10\n",
      "48000/48000 [==============================] - 10s 203us/sample - loss: 0.2812 - accuracy: 0.8946 - val_loss: 0.3355 - val_accuracy: 0.8764\n",
      "Epoch 6/10\n",
      "48000/48000 [==============================] - 10s 205us/sample - loss: 0.2675 - accuracy: 0.8986 - val_loss: 0.3152 - val_accuracy: 0.8887\n",
      "Epoch 7/10\n",
      "48000/48000 [==============================] - 10s 207us/sample - loss: 0.2509 - accuracy: 0.9057 - val_loss: 0.3219 - val_accuracy: 0.8849\n",
      "Epoch 8/10\n",
      "48000/48000 [==============================] - 10s 199us/sample - loss: 0.2373 - accuracy: 0.9084 - val_loss: 0.3025 - val_accuracy: 0.8930\n",
      "Epoch 9/10\n",
      "48000/48000 [==============================] - 10s 208us/sample - loss: 0.2263 - accuracy: 0.9133 - val_loss: 0.3522 - val_accuracy: 0.8849\n",
      "Epoch 10/10\n",
      "48000/48000 [==============================] - 9s 192us/sample - loss: 0.2196 - accuracy: 0.9168 - val_loss: 0.3162 - val_accuracy: 0.8932\n"
     ]
    }
   ],
   "source": [
    "model = tf.keras.models.Sequential([\n",
    "  tf.keras.layers.Flatten(input_shape=(28, 28)),\n",
    "  tf.keras.layers.Dense(512, activation=tf.nn.relu),\n",
    "  tf.keras.layers.Dense(512, activation=tf.nn.relu),\n",
    "  tf.keras.layers.Dense(10, activation=tf.nn.softmax)\n",
    "])\n",
    "model.compile(optimizer='adam',\n",
    "              loss='sparse_categorical_crossentropy',\n",
    "              metrics=['accuracy'])\n",
    "\n",
    "history2 = model.fit(x_train, y_train, validation_split=0.2, epochs=10, \n",
    "                    callbacks=[early_stopping])"
   ]
  },
  {
   "cell_type": "code",
   "execution_count": 8,
   "metadata": {},
   "outputs": [
    {
     "ename": "NameError",
     "evalue": "name 'history2' is not defined",
     "output_type": "error",
     "traceback": [
      "\u001b[1;31m---------------------------------------------------------------------------\u001b[0m",
      "\u001b[1;31mNameError\u001b[0m                                 Traceback (most recent call last)",
      "\u001b[1;32m<ipython-input-8-649017dd702f>\u001b[0m in \u001b[0;36m<module>\u001b[1;34m\u001b[0m\n\u001b[1;32m----> 1\u001b[1;33m \u001b[0mplot_history\u001b[0m\u001b[1;33m(\u001b[0m\u001b[0mhistory2\u001b[0m\u001b[1;33m)\u001b[0m\u001b[1;33m\u001b[0m\u001b[1;33m\u001b[0m\u001b[0m\n\u001b[0m",
      "\u001b[1;31mNameError\u001b[0m: name 'history2' is not defined"
     ]
    }
   ],
   "source": [
    "plot_history(history2)"
   ]
  },
  {
   "cell_type": "code",
   "execution_count": null,
   "metadata": {},
   "outputs": [],
   "source": [
    "history.epoch"
   ]
  },
  {
   "cell_type": "code",
   "execution_count": null,
   "metadata": {},
   "outputs": [],
   "source": [
    "history.history.keys()"
   ]
  },
  {
   "cell_type": "code",
   "execution_count": null,
   "metadata": {},
   "outputs": [],
   "source": [
    "history.params"
   ]
  },
  {
   "cell_type": "code",
   "execution_count": null,
   "metadata": {},
   "outputs": [],
   "source": []
  }
 ],
 "metadata": {
  "kernelspec": {
   "display_name": "tf2-GPU",
   "language": "python",
   "name": "tf2"
  },
  "language_info": {
   "codemirror_mode": {
    "name": "ipython",
    "version": 3
   },
   "file_extension": ".py",
   "mimetype": "text/x-python",
   "name": "python",
   "nbconvert_exporter": "python",
   "pygments_lexer": "ipython3",
   "version": "3.6.9"
  }
 },
 "nbformat": 4,
 "nbformat_minor": 2
}
