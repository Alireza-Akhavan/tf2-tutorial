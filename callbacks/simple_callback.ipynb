{
 "cells": [
  {
   "cell_type": "code",
   "execution_count": 2,
   "metadata": {},
   "outputs": [],
   "source": [
    "import tensorflow as tf\n",
    "import datetime"
   ]
  },
  {
   "cell_type": "code",
   "execution_count": 3,
   "metadata": {},
   "outputs": [],
   "source": [
    "mnist = tf.keras.datasets.fashion_mnist\n",
    "(x_train, y_train),(x_test, y_test) = mnist.load_data()\n",
    "x_train, x_test = x_train / 255.0, x_test / 255.0"
   ]
  },
  {
   "cell_type": "code",
   "execution_count": 15,
   "metadata": {},
   "outputs": [],
   "source": [
    "class MyCustomCallback(tf.keras.callbacks.Callback):\n",
    "    \n",
    "    def on_train_begin(self, logs=None):\n",
    "        print(\"Training is started!\")\n",
    "    \n",
    "    def on_epoch_begin(self, epoch, logs=None):\n",
    "        print(\"-\"*50)\n",
    "        print(\"Epoch {} is started.\".format(epoch))\n",
    "    \n",
    "    def on_train_batch_begin(self, batch, logs=None):\n",
    "        if batch%100 ==0:\n",
    "            print('Training: batch {} begins'.format(batch))\n",
    "\n",
    "    def on_test_begin(self, logs=None):\n",
    "        print(\"*\"*50)\n",
    "        t= datetime.datetime.now().time()\n",
    "        print('Evaluation begins at {}'.format(t))\n",
    "                  \n",
    "    def on_test_end(self, logs=None):\n",
    "        t= datetime.datetime.now().time()\n",
    "        print('Evaluation finishes at {}'.format(t))"
   ]
  },
  {
   "cell_type": "code",
   "execution_count": 16,
   "metadata": {},
   "outputs": [],
   "source": [
    "my_callback = MyCustomCallback()"
   ]
  },
  {
   "cell_type": "code",
   "execution_count": 17,
   "metadata": {},
   "outputs": [
    {
     "name": "stdout",
     "output_type": "stream",
     "text": [
      "Training is started!\n",
      "--------------------------------------------------\n",
      "Epoch 0 is started.\n",
      "Training: batch 0 begins\n",
      "Training: batch 100 begins\n",
      "Training: batch 200 begins\n",
      "Training: batch 300 begins\n",
      "Training: batch 400 begins\n",
      "Training: batch 500 begins\n",
      "Training: batch 600 begins\n",
      "Training: batch 700 begins\n",
      "Training: batch 800 begins\n",
      "Training: batch 900 begins\n",
      "Training: batch 1000 begins\n",
      "Training: batch 1100 begins\n",
      "Training: batch 1200 begins\n",
      "Training: batch 1300 begins\n",
      "Training: batch 1400 begins\n",
      "**************************************************\n",
      "Evaluation begins at 17:55:15.485051\n",
      "Evaluation finishes at 17:55:16.575052\n",
      "--------------------------------------------------\n",
      "Epoch 1 is started.\n",
      "Training: batch 0 begins\n",
      "Training: batch 100 begins\n",
      "Training: batch 200 begins\n",
      "Training: batch 300 begins\n",
      "Training: batch 400 begins\n",
      "Training: batch 500 begins\n",
      "Training: batch 600 begins\n",
      "Training: batch 700 begins\n",
      "Training: batch 800 begins\n",
      "Training: batch 900 begins\n",
      "Training: batch 1000 begins\n",
      "Training: batch 1100 begins\n",
      "Training: batch 1200 begins\n",
      "Training: batch 1300 begins\n",
      "Training: batch 1400 begins\n",
      "**************************************************\n",
      "Evaluation begins at 17:55:22.552051\n",
      "Evaluation finishes at 17:55:23.574051\n",
      "--------------------------------------------------\n",
      "Epoch 2 is started.\n",
      "Training: batch 0 begins\n",
      "Training: batch 100 begins\n",
      "Training: batch 200 begins\n",
      "Training: batch 300 begins\n",
      "Training: batch 400 begins\n",
      "Training: batch 500 begins\n",
      "Training: batch 600 begins\n",
      "Training: batch 700 begins\n",
      "Training: batch 800 begins\n",
      "Training: batch 900 begins\n",
      "Training: batch 1000 begins\n",
      "Training: batch 1100 begins\n",
      "Training: batch 1200 begins\n",
      "Training: batch 1300 begins\n",
      "Training: batch 1400 begins\n",
      "**************************************************\n",
      "Evaluation begins at 17:55:29.554051\n",
      "Evaluation finishes at 17:55:30.558053\n"
     ]
    },
    {
     "data": {
      "text/plain": [
       "<tensorflow.python.keras.callbacks.History at 0x1bcb923fdd8>"
      ]
     },
     "execution_count": 17,
     "metadata": {},
     "output_type": "execute_result"
    }
   ],
   "source": [
    "model = tf.keras.models.Sequential([\n",
    "  tf.keras.layers.Flatten(input_shape=(28, 28)),\n",
    "  tf.keras.layers.Dense(512, activation=tf.nn.relu),\n",
    "  tf.keras.layers.Dense(10, activation=tf.nn.softmax)\n",
    "])\n",
    "model.compile(optimizer='adam',\n",
    "              loss='sparse_categorical_crossentropy',\n",
    "              metrics=['accuracy'])\n",
    "\n",
    "model.fit(x_train, y_train, epochs=3,validation_split=0.2,callbacks=[my_callback], verbose=0)"
   ]
  },
  {
   "cell_type": "code",
   "execution_count": null,
   "metadata": {},
   "outputs": [],
   "source": []
  }
 ],
 "metadata": {
  "kernelspec": {
   "display_name": "tf2-GPU",
   "language": "python",
   "name": "tf2"
  },
  "language_info": {
   "codemirror_mode": {
    "name": "ipython",
    "version": 3
   },
   "file_extension": ".py",
   "mimetype": "text/x-python",
   "name": "python",
   "nbconvert_exporter": "python",
   "pygments_lexer": "ipython3",
   "version": "3.6.9"
  }
 },
 "nbformat": 4,
 "nbformat_minor": 2
}
