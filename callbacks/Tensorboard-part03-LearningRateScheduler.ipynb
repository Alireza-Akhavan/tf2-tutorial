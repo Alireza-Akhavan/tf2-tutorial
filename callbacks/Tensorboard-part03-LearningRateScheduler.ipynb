{
 "cells": [
  {
   "cell_type": "code",
   "execution_count": 1,
   "metadata": {},
   "outputs": [],
   "source": [
    "import tensorflow as tf\n",
    "from tensorflow.keras.callbacks import LearningRateScheduler\n",
    "from tensorflow.keras.callbacks import TensorBoard\n",
    "import datetime"
   ]
  },
  {
   "cell_type": "code",
   "execution_count": 2,
   "metadata": {},
   "outputs": [],
   "source": [
    "mnist = tf.keras.datasets.fashion_mnist\n",
    "\n",
    "(x_train, y_train),(x_test, y_test) = mnist.load_data()\n",
    "x_train, x_test = x_train / 255.0, x_test / 255.0"
   ]
  },
  {
   "cell_type": "code",
   "execution_count": 3,
   "metadata": {},
   "outputs": [],
   "source": [
    "def scheduler(epoch):\n",
    "    if epoch < 2:\n",
    "        return 0.001\n",
    "    elif epoch < 6:\n",
    "        return 0.0001\n",
    "    else:\n",
    "        return 0.00001\n",
    "\n",
    "learning_rate_scheduler = LearningRateScheduler(scheduler, verbose=1)"
   ]
  },
  {
   "cell_type": "code",
   "execution_count": 4,
   "metadata": {},
   "outputs": [
    {
     "name": "stdout",
     "output_type": "stream",
     "text": [
      "logDir:  .\\fashion_mnist_log\\20200424-010328\n",
      "Train on 60000 samples\n",
      "\n",
      "Epoch 00001: LearningRateScheduler reducing learning rate to 0.001.\n",
      "Epoch 1/10\n",
      "60000/60000 [==============================] - 9s 156us/sample - loss: 0.4744 - accuracy: 0.8328\n",
      "\n",
      "Epoch 00002: LearningRateScheduler reducing learning rate to 0.001.\n",
      "Epoch 2/10\n",
      "60000/60000 [==============================] - 9s 153us/sample - loss: 0.3606 - accuracy: 0.8688\n",
      "\n",
      "Epoch 00003: LearningRateScheduler reducing learning rate to 0.0001.\n",
      "Epoch 3/10\n",
      "60000/60000 [==============================] - 9s 153us/sample - loss: 0.2830 - accuracy: 0.8957\n",
      "\n",
      "Epoch 00004: LearningRateScheduler reducing learning rate to 0.0001.\n",
      "Epoch 4/10\n",
      "60000/60000 [==============================] - 10s 165us/sample - loss: 0.2715 - accuracy: 0.9002\n",
      "\n",
      "Epoch 00005: LearningRateScheduler reducing learning rate to 0.0001.\n",
      "Epoch 5/10\n",
      "60000/60000 [==============================] - 9s 142us/sample - loss: 0.2636 - accuracy: 0.9030\n",
      "\n",
      "Epoch 00006: LearningRateScheduler reducing learning rate to 0.0001.\n",
      "Epoch 6/10\n",
      "60000/60000 [==============================] - 9s 151us/sample - loss: 0.2564 - accuracy: 0.9051\n",
      "\n",
      "Epoch 00007: LearningRateScheduler reducing learning rate to 1e-05.\n",
      "Epoch 7/10\n",
      "60000/60000 [==============================] - 10s 159us/sample - loss: 0.2460 - accuracy: 0.9100\n",
      "\n",
      "Epoch 00008: LearningRateScheduler reducing learning rate to 1e-05.\n",
      "Epoch 8/10\n",
      "60000/60000 [==============================] - 10s 163us/sample - loss: 0.2442 - accuracy: 0.9102\n",
      "\n",
      "Epoch 00009: LearningRateScheduler reducing learning rate to 1e-05.\n",
      "Epoch 9/10\n",
      "60000/60000 [==============================] - 9s 152us/sample - loss: 0.2433 - accuracy: 0.9102\n",
      "\n",
      "Epoch 00010: LearningRateScheduler reducing learning rate to 1e-05.\n",
      "Epoch 10/10\n",
      "60000/60000 [==============================] - 9s 155us/sample - loss: 0.2424 - accuracy: 0.9109\n"
     ]
    }
   ],
   "source": [
    "logDir = \".\\\\fashion_mnist_log\\\\\" + datetime.datetime.now().strftime(\"%Y%m%d-%H%M%S\")\n",
    "# logDir = \"fashion_mnist_log/\" + datetime.datetime.now().strftime(\"%Y%m%d-%H%M%S\") #If you are using linux\n",
    "print(\"logDir: \", logDir)\n",
    "tensorboard_callback = TensorBoard(logDir)\n",
    "\n",
    "\n",
    "model = tf.keras.models.Sequential([\n",
    "  tf.keras.layers.Flatten(input_shape=(28, 28)),\n",
    "  tf.keras.layers.Dense(512, activation=tf.nn.relu),\n",
    "  tf.keras.layers.Dense(10, activation=tf.nn.softmax)\n",
    "])\n",
    "model.compile(optimizer='adam',\n",
    "              loss='sparse_categorical_crossentropy',\n",
    "              metrics=['accuracy'])\n",
    "\n",
    "history = model.fit(x_train, y_train, epochs=10, callbacks=[learning_rate_scheduler, tensorboard_callback])"
   ]
  },
  {
   "cell_type": "code",
   "execution_count": null,
   "metadata": {},
   "outputs": [],
   "source": []
  },
  {
   "cell_type": "code",
   "execution_count": null,
   "metadata": {},
   "outputs": [],
   "source": []
  }
 ],
 "metadata": {
  "kernelspec": {
   "display_name": "tf2-GPU",
   "language": "python",
   "name": "tf2"
  },
  "language_info": {
   "codemirror_mode": {
    "name": "ipython",
    "version": 3
   },
   "file_extension": ".py",
   "mimetype": "text/x-python",
   "name": "python",
   "nbconvert_exporter": "python",
   "pygments_lexer": "ipython3",
   "version": "3.6.9"
  }
 },
 "nbformat": 4,
 "nbformat_minor": 2
}
