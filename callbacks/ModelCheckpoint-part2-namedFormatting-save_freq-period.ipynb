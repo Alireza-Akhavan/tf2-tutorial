{
 "cells": [
  {
   "cell_type": "code",
   "execution_count": 1,
   "metadata": {},
   "outputs": [],
   "source": [
    "import tensorflow as tf\n",
    "from tensorflow import keras\n",
    "from tensorflow.keras.callbacks import ModelCheckpoint\n",
    "import os"
   ]
  },
  {
   "cell_type": "code",
   "execution_count": 2,
   "metadata": {},
   "outputs": [],
   "source": [
    "(train_images, train_labels), (test_images, test_labels) = tf.keras.datasets.mnist.load_data()\n",
    "train_labels = train_labels[:1000]\n",
    "test_labels = test_labels[:1000]\n",
    "train_images = train_images[:1000].reshape(-1, 28 * 28) / 255.0\n",
    "test_images = test_images[:1000].reshape(-1, 28 * 28) / 255.0"
   ]
  },
  {
   "cell_type": "code",
   "execution_count": 3,
   "metadata": {},
   "outputs": [],
   "source": [
    "# Define a simple sequential model\n",
    "def create_model():\n",
    "    model = tf.keras.models.Sequential([\n",
    "        keras.layers.Dense(512, activation='relu', input_shape=(784,)),\n",
    "        keras.layers.Dropout(0.2),\n",
    "        keras.layers.Dense(10, activation='softmax')\n",
    "        ])\n",
    "    model.compile(optimizer='adam',\n",
    "                  loss='sparse_categorical_crossentropy',\n",
    "                  metrics=['accuracy'])\n",
    "    return model"
   ]
  },
  {
   "cell_type": "code",
   "execution_count": 4,
   "metadata": {},
   "outputs": [],
   "source": [
    "# Create a basic model instance\n",
    "model = create_model()"
   ]
  },
  {
   "cell_type": "markdown",
   "metadata": {},
   "source": [
    "### Define checkpoint path and checkpoint directory"
   ]
  },
  {
   "cell_type": "code",
   "execution_count": 5,
   "metadata": {},
   "outputs": [],
   "source": [
    "# Include the epoch in the file name (uses `str.format`)\n",
    "checkpoint_path = \"training_2/cp-{epoch:04d}.ckpt\"\n",
    "checkpoint_dir = os.path.dirname(checkpoint_path)#previoulsy, checkpoint_path = \"training_1/cp.ckpt\""
   ]
  },
  {
   "cell_type": "markdown",
   "metadata": {},
   "source": [
    "### Create a callback that saves model’s weights"
   ]
  },
  {
   "cell_type": "code",
   "execution_count": 10,
   "metadata": {},
   "outputs": [
    {
     "name": "stdout",
     "output_type": "stream",
     "text": [
      "WARNING:tensorflow:`period` argument is deprecated. Please use `save_freq` to specify the frequency in number of samples seen.\n"
     ]
    }
   ],
   "source": [
    "# Create a callback that saves the model's weights every 5 epochs\n",
    "cp_callback = ModelCheckpoint(\n",
    "    filepath=checkpoint_path, \n",
    "    verbose=1, \n",
    "    save_weights_only=True,\n",
    "    save_freq='epoch', period=5)"
   ]
  },
  {
   "cell_type": "markdown",
   "metadata": {},
   "source": [
    "### Create a new model and model fitting with a new callback (training)"
   ]
  },
  {
   "cell_type": "code",
   "execution_count": 11,
   "metadata": {},
   "outputs": [
    {
     "name": "stdout",
     "output_type": "stream",
     "text": [
      "Train on 1000 samples, validate on 1000 samples\n",
      "Epoch 1/50\n",
      "1000/1000 - 1s - loss: 1.1774 - accuracy: 0.6810 - val_loss: 0.7282 - val_accuracy: 0.7870\n",
      "Epoch 2/50\n",
      "1000/1000 - 0s - loss: 0.4215 - accuracy: 0.8900 - val_loss: 0.5476 - val_accuracy: 0.8310\n",
      "Epoch 3/50\n",
      "1000/1000 - 1s - loss: 0.2932 - accuracy: 0.9170 - val_loss: 0.5125 - val_accuracy: 0.8380\n",
      "Epoch 4/50\n",
      "1000/1000 - 0s - loss: 0.2177 - accuracy: 0.9460 - val_loss: 0.4848 - val_accuracy: 0.8410\n",
      "Epoch 5/50\n",
      "\n",
      "Epoch 00005: saving model to training_2/cp-0005.ckpt\n",
      "1000/1000 - 1s - loss: 0.1684 - accuracy: 0.9620 - val_loss: 0.4506 - val_accuracy: 0.8470\n",
      "Epoch 6/50\n",
      "1000/1000 - 0s - loss: 0.1178 - accuracy: 0.9730 - val_loss: 0.4180 - val_accuracy: 0.8670\n",
      "Epoch 7/50\n",
      "1000/1000 - 0s - loss: 0.0879 - accuracy: 0.9880 - val_loss: 0.4274 - val_accuracy: 0.8630\n",
      "Epoch 8/50\n",
      "1000/1000 - 0s - loss: 0.0635 - accuracy: 0.9950 - val_loss: 0.4175 - val_accuracy: 0.8730\n",
      "Epoch 9/50\n",
      "1000/1000 - 0s - loss: 0.0509 - accuracy: 0.9970 - val_loss: 0.3949 - val_accuracy: 0.8720\n",
      "Epoch 10/50\n",
      "\n",
      "Epoch 00010: saving model to training_2/cp-0010.ckpt\n",
      "1000/1000 - 1s - loss: 0.0393 - accuracy: 1.0000 - val_loss: 0.4085 - val_accuracy: 0.8730\n",
      "Epoch 11/50\n",
      "1000/1000 - 0s - loss: 0.0311 - accuracy: 0.9990 - val_loss: 0.4146 - val_accuracy: 0.8650\n",
      "Epoch 12/50\n",
      "1000/1000 - 0s - loss: 0.0269 - accuracy: 1.0000 - val_loss: 0.4077 - val_accuracy: 0.8730\n",
      "Epoch 13/50\n",
      "1000/1000 - 0s - loss: 0.0230 - accuracy: 0.9990 - val_loss: 0.4068 - val_accuracy: 0.8760\n",
      "Epoch 14/50\n",
      "1000/1000 - 1s - loss: 0.0180 - accuracy: 1.0000 - val_loss: 0.4196 - val_accuracy: 0.8740\n",
      "Epoch 15/50\n",
      "\n",
      "Epoch 00015: saving model to training_2/cp-0015.ckpt\n",
      "1000/1000 - 1s - loss: 0.0148 - accuracy: 1.0000 - val_loss: 0.4191 - val_accuracy: 0.8710\n",
      "Epoch 16/50\n",
      "1000/1000 - 0s - loss: 0.0148 - accuracy: 0.9990 - val_loss: 0.4121 - val_accuracy: 0.8800\n",
      "Epoch 17/50\n",
      "1000/1000 - 0s - loss: 0.0122 - accuracy: 1.0000 - val_loss: 0.4204 - val_accuracy: 0.8730\n",
      "Epoch 18/50\n",
      "1000/1000 - 0s - loss: 0.0106 - accuracy: 1.0000 - val_loss: 0.4338 - val_accuracy: 0.8660\n",
      "Epoch 19/50\n",
      "1000/1000 - 1s - loss: 0.0095 - accuracy: 0.9990 - val_loss: 0.4242 - val_accuracy: 0.8710\n",
      "Epoch 20/50\n",
      "\n",
      "Epoch 00020: saving model to training_2/cp-0020.ckpt\n",
      "1000/1000 - 1s - loss: 0.0085 - accuracy: 1.0000 - val_loss: 0.4220 - val_accuracy: 0.8760\n",
      "Epoch 21/50\n",
      "1000/1000 - 0s - loss: 0.0075 - accuracy: 1.0000 - val_loss: 0.4421 - val_accuracy: 0.8710\n",
      "Epoch 22/50\n",
      "1000/1000 - 0s - loss: 0.0062 - accuracy: 1.0000 - val_loss: 0.4379 - val_accuracy: 0.8780\n",
      "Epoch 23/50\n",
      "1000/1000 - 0s - loss: 0.0057 - accuracy: 1.0000 - val_loss: 0.4594 - val_accuracy: 0.8670\n",
      "Epoch 24/50\n",
      "1000/1000 - 0s - loss: 0.0053 - accuracy: 1.0000 - val_loss: 0.4429 - val_accuracy: 0.8740\n",
      "Epoch 25/50\n",
      "\n",
      "Epoch 00025: saving model to training_2/cp-0025.ckpt\n",
      "1000/1000 - 1s - loss: 0.0052 - accuracy: 1.0000 - val_loss: 0.4456 - val_accuracy: 0.8760\n",
      "Epoch 26/50\n",
      "1000/1000 - 0s - loss: 0.0047 - accuracy: 1.0000 - val_loss: 0.4488 - val_accuracy: 0.8730\n",
      "Epoch 27/50\n",
      "1000/1000 - 0s - loss: 0.0044 - accuracy: 1.0000 - val_loss: 0.4458 - val_accuracy: 0.8780\n",
      "Epoch 28/50\n",
      "1000/1000 - 0s - loss: 0.0041 - accuracy: 1.0000 - val_loss: 0.4501 - val_accuracy: 0.8730\n",
      "Epoch 29/50\n",
      "1000/1000 - 1s - loss: 0.0033 - accuracy: 1.0000 - val_loss: 0.4555 - val_accuracy: 0.8790\n",
      "Epoch 30/50\n",
      "\n",
      "Epoch 00030: saving model to training_2/cp-0030.ckpt\n",
      "1000/1000 - 1s - loss: 0.0034 - accuracy: 1.0000 - val_loss: 0.4596 - val_accuracy: 0.8710\n",
      "Epoch 31/50\n",
      "1000/1000 - 0s - loss: 0.0030 - accuracy: 1.0000 - val_loss: 0.4530 - val_accuracy: 0.8780\n",
      "Epoch 32/50\n",
      "1000/1000 - 0s - loss: 0.0028 - accuracy: 1.0000 - val_loss: 0.4606 - val_accuracy: 0.8720\n",
      "Epoch 33/50\n",
      "1000/1000 - 0s - loss: 0.0028 - accuracy: 1.0000 - val_loss: 0.4602 - val_accuracy: 0.8770\n",
      "Epoch 34/50\n",
      "1000/1000 - 1s - loss: 0.0026 - accuracy: 1.0000 - val_loss: 0.4704 - val_accuracy: 0.8750\n",
      "Epoch 35/50\n",
      "\n",
      "Epoch 00035: saving model to training_2/cp-0035.ckpt\n",
      "1000/1000 - 1s - loss: 0.0027 - accuracy: 1.0000 - val_loss: 0.4627 - val_accuracy: 0.8780\n",
      "Epoch 36/50\n",
      "1000/1000 - 0s - loss: 0.0025 - accuracy: 1.0000 - val_loss: 0.4642 - val_accuracy: 0.8740\n",
      "Epoch 37/50\n",
      "1000/1000 - 0s - loss: 0.0023 - accuracy: 1.0000 - val_loss: 0.4763 - val_accuracy: 0.8730\n",
      "Epoch 38/50\n",
      "1000/1000 - 0s - loss: 0.0021 - accuracy: 1.0000 - val_loss: 0.4723 - val_accuracy: 0.8760\n",
      "Epoch 39/50\n",
      "1000/1000 - 0s - loss: 0.0018 - accuracy: 1.0000 - val_loss: 0.4708 - val_accuracy: 0.8770\n",
      "Epoch 40/50\n",
      "\n",
      "Epoch 00040: saving model to training_2/cp-0040.ckpt\n",
      "1000/1000 - 1s - loss: 0.0018 - accuracy: 1.0000 - val_loss: 0.4728 - val_accuracy: 0.8750\n",
      "Epoch 41/50\n",
      "1000/1000 - 0s - loss: 0.0018 - accuracy: 1.0000 - val_loss: 0.4782 - val_accuracy: 0.8730\n",
      "Epoch 42/50\n",
      "1000/1000 - 0s - loss: 0.0017 - accuracy: 1.0000 - val_loss: 0.4814 - val_accuracy: 0.8730\n",
      "Epoch 43/50\n",
      "1000/1000 - 0s - loss: 0.0017 - accuracy: 1.0000 - val_loss: 0.4792 - val_accuracy: 0.8750\n",
      "Epoch 44/50\n",
      "1000/1000 - 0s - loss: 0.0016 - accuracy: 1.0000 - val_loss: 0.4819 - val_accuracy: 0.8750\n",
      "Epoch 45/50\n",
      "\n",
      "Epoch 00045: saving model to training_2/cp-0045.ckpt\n",
      "1000/1000 - 1s - loss: 0.0014 - accuracy: 1.0000 - val_loss: 0.4788 - val_accuracy: 0.8780\n",
      "Epoch 46/50\n",
      "1000/1000 - 0s - loss: 0.0013 - accuracy: 1.0000 - val_loss: 0.4832 - val_accuracy: 0.8780\n",
      "Epoch 47/50\n",
      "1000/1000 - 0s - loss: 0.0013 - accuracy: 1.0000 - val_loss: 0.4926 - val_accuracy: 0.8740\n",
      "Epoch 48/50\n",
      "1000/1000 - 0s - loss: 0.0013 - accuracy: 1.0000 - val_loss: 0.4951 - val_accuracy: 0.8740\n",
      "Epoch 49/50\n",
      "1000/1000 - 0s - loss: 0.0012 - accuracy: 1.0000 - val_loss: 0.5020 - val_accuracy: 0.8700\n",
      "Epoch 50/50\n",
      "\n",
      "Epoch 00050: saving model to training_2/cp-0050.ckpt\n",
      "1000/1000 - 1s - loss: 0.0013 - accuracy: 1.0000 - val_loss: 0.4910 - val_accuracy: 0.8780\n"
     ]
    },
    {
     "data": {
      "text/plain": [
       "<tensorflow.python.keras.callbacks.History at 0x252a0b506a0>"
      ]
     },
     "execution_count": 11,
     "metadata": {},
     "output_type": "execute_result"
    }
   ],
   "source": [
    "# Create a new model instance\n",
    "model = create_model()\n",
    "\n",
    "# Save the weights using the `checkpoint_path` format\n",
    "model.save_weights(checkpoint_path.format(epoch=0))\n",
    "\n",
    "# Train the model with the new callback\n",
    "model.fit(train_images, \n",
    "          train_labels,\n",
    "          epochs=50, \n",
    "          callbacks=[cp_callback],\n",
    "          validation_data=(test_images,test_labels),\n",
    "          verbose=2)"
   ]
  },
  {
   "cell_type": "markdown",
   "metadata": {},
   "source": [
    "Then, we want to look at the list of resulting checkpoints and then check the lastest checkpoint and name it ‘latest’"
   ]
  },
  {
   "cell_type": "code",
   "execution_count": 12,
   "metadata": {},
   "outputs": [
    {
     "data": {
      "text/plain": [
       "'training_2\\\\cp-0050.ckpt'"
      ]
     },
     "execution_count": 12,
     "metadata": {},
     "output_type": "execute_result"
    }
   ],
   "source": [
    "latest = tf.train.latest_checkpoint(checkpoint_dir)\n",
    "latest"
   ]
  },
  {
   "cell_type": "markdown",
   "metadata": {},
   "source": [
    "### Recreate a model and reload the latest checkpoint"
   ]
  },
  {
   "cell_type": "code",
   "execution_count": 15,
   "metadata": {},
   "outputs": [
    {
     "name": "stdout",
     "output_type": "stream",
     "text": [
      "Restored model, accuracy: 87.80%\n"
     ]
    }
   ],
   "source": [
    "# Create a new model instance\n",
    "model = create_model()\n",
    "\n",
    "# Load the previously saved weights\n",
    "model.load_weights(latest)\n",
    "\n",
    "# Re-evaluate the model\n",
    "loss, acc = model.evaluate(test_images, test_labels, verbose=0)\n",
    "print(\"Restored model, accuracy: {:5.2f}%\".format(100*acc))"
   ]
  },
  {
   "cell_type": "code",
   "execution_count": null,
   "metadata": {},
   "outputs": [],
   "source": []
  }
 ],
 "metadata": {
  "kernelspec": {
   "display_name": "tf2-GPU",
   "language": "python",
   "name": "tf2"
  },
  "language_info": {
   "codemirror_mode": {
    "name": "ipython",
    "version": 3
   },
   "file_extension": ".py",
   "mimetype": "text/x-python",
   "name": "python",
   "nbconvert_exporter": "python",
   "pygments_lexer": "ipython3",
   "version": "3.6.9"
  }
 },
 "nbformat": 4,
 "nbformat_minor": 2
}
