{
 "cells": [
  {
   "cell_type": "code",
   "execution_count": 1,
   "metadata": {},
   "outputs": [],
   "source": [
    "import tensorflow as tf\n",
    "from tensorflow.keras.callbacks import LearningRateScheduler\n",
    "import matplotlib.pyplot as plt\n",
    "%matplotlib inline"
   ]
  },
  {
   "cell_type": "code",
   "execution_count": 2,
   "metadata": {},
   "outputs": [],
   "source": [
    "mnist = tf.keras.datasets.fashion_mnist\n",
    "\n",
    "(x_train, y_train),(x_test, y_test) = mnist.load_data()\n",
    "x_train, x_test = x_train / 255.0, x_test / 255.0"
   ]
  },
  {
   "cell_type": "code",
   "execution_count": 3,
   "metadata": {},
   "outputs": [],
   "source": [
    "def get_learning_rate_from_file(filename, epoch):\n",
    "    with open(filename, 'r') as f:\n",
    "        for line in f.readlines():\n",
    "            line = line.split('#', 1)[0]\n",
    "            if line:\n",
    "                par = line.strip().split(':')\n",
    "                e = int(par[0])\n",
    "                lr = float(par[1])\n",
    "                if e <= epoch and lr > 0:\n",
    "                    learning_rate = lr\n",
    "                else:\n",
    "                    return learning_rate\n",
    "                    return learning_rate\n",
    "        return learning_rate"
   ]
  },
  {
   "cell_type": "code",
   "execution_count": 4,
   "metadata": {},
   "outputs": [
    {
     "name": "stdout",
     "output_type": "stream",
     "text": [
      "Epoch 0: 0.001\n",
      "Epoch 1: 0.001\n",
      "Epoch 2: 0.0001\n",
      "Epoch 3: 0.0001\n",
      "Epoch 4: 0.0001\n",
      "Epoch 5: 0.0001\n",
      "Epoch 6: 1e-05\n",
      "Epoch 7: 1e-05\n",
      "Epoch 8: 1e-05\n",
      "Epoch 9: 1e-05\n"
     ]
    }
   ],
   "source": [
    "for i in range(10):\n",
    "    print('Epoch {}: {}'.format(i, get_learning_rate_from_file('lr.txt',i)))"
   ]
  },
  {
   "cell_type": "code",
   "execution_count": 7,
   "metadata": {},
   "outputs": [],
   "source": [
    "def get_scheduler(lr_schedule_file):\n",
    "    def scheduler(epoch):\n",
    "        lr = get_learning_rate_from_file(lr_schedule_file, epoch)\n",
    "        return lr\n",
    "    return scheduler"
   ]
  },
  {
   "cell_type": "code",
   "execution_count": 8,
   "metadata": {},
   "outputs": [],
   "source": [
    "scheduler = get_scheduler(\"lr.txt\")\n",
    "learning_rate_from_file_scheduler = LearningRateScheduler(scheduler, verbose=1)"
   ]
  },
  {
   "cell_type": "code",
   "execution_count": null,
   "metadata": {},
   "outputs": [
    {
     "name": "stdout",
     "output_type": "stream",
     "text": [
      "Train on 60000 samples\n",
      "\n",
      "Epoch 00001: LearningRateScheduler reducing learning rate to 0.001.\n",
      "Epoch 1/10\n",
      "60000/60000 [==============================] - 10s 160us/sample - loss: 0.4704 - accuracy: 0.8327\n",
      "\n",
      "Epoch 00002: LearningRateScheduler reducing learning rate to 0.001.\n",
      "Epoch 2/10\n",
      "60000/60000 [==============================] - 9s 143us/sample - loss: 0.3581 - accuracy: 0.8688\n",
      "\n",
      "Epoch 00003: LearningRateScheduler reducing learning rate to 0.0001.\n",
      "Epoch 3/10\n",
      "60000/60000 [==============================] - 8s 138us/sample - loss: 0.2801 - accuracy: 0.8968\n",
      "\n",
      "Epoch 00004: LearningRateScheduler reducing learning rate to 0.0001.\n",
      "Epoch 4/10\n",
      "60000/60000 [==============================] - 8s 141us/sample - loss: 0.2690 - accuracy: 0.9002\n",
      "\n",
      "Epoch 00005: LearningRateScheduler reducing learning rate to 0.0001.\n",
      "Epoch 5/10\n",
      "60000/60000 [==============================] - 9s 146us/sample - loss: 0.2607 - accuracy: 0.9035\n",
      "\n",
      "Epoch 00006: LearningRateScheduler reducing learning rate to 0.0001.\n",
      "Epoch 6/10\n",
      "60000/60000 [==============================] - 8s 140us/sample - loss: 0.2546 - accuracy: 0.9067\n",
      "\n",
      "Epoch 00007: LearningRateScheduler reducing learning rate to 1e-05.\n",
      "Epoch 7/10\n",
      "60000/60000 [==============================] - 9s 142us/sample - loss: 0.2437 - accuracy: 0.9107\n",
      "\n",
      "Epoch 00008: LearningRateScheduler reducing learning rate to 1e-05.\n",
      "Epoch 8/10\n",
      "60000/60000 [==============================] - 9s 158us/sample - loss: 0.2417 - accuracy: 0.9111\n",
      "\n",
      "Epoch 00009: LearningRateScheduler reducing learning rate to 1e-05.\n",
      "Epoch 9/10\n",
      "60000/60000 [==============================] - 9s 156us/sample - loss: 0.2407 - accuracy: 0.9115\n",
      "\n",
      "Epoch 00010: LearningRateScheduler reducing learning rate to 1e-05.\n",
      "Epoch 10/10\n",
      "22912/60000 [==========>...................] - ETA: 6s - loss: 0.2420 - accuracy: 0.9128"
     ]
    }
   ],
   "source": [
    "model = tf.keras.models.Sequential([\n",
    "  tf.keras.layers.Flatten(input_shape=(28, 28)),\n",
    "  tf.keras.layers.Dense(512, activation=tf.nn.relu),\n",
    "  tf.keras.layers.Dense(10, activation=tf.nn.softmax)\n",
    "])\n",
    "model.compile(optimizer='adam',\n",
    "              loss='sparse_categorical_crossentropy',\n",
    "              metrics=['accuracy'])\n",
    "\n",
    "history = model.fit(x_train, y_train, epochs=10, callbacks=[learning_rate_from_file_scheduler])"
   ]
  },
  {
   "cell_type": "code",
   "execution_count": null,
   "metadata": {},
   "outputs": [],
   "source": []
  },
  {
   "cell_type": "code",
   "execution_count": null,
   "metadata": {},
   "outputs": [],
   "source": []
  }
 ],
 "metadata": {
  "kernelspec": {
   "display_name": "tf2-GPU",
   "language": "python",
   "name": "tf2"
  },
  "language_info": {
   "codemirror_mode": {
    "name": "ipython",
    "version": 3
   },
   "file_extension": ".py",
   "mimetype": "text/x-python",
   "name": "python",
   "nbconvert_exporter": "python",
   "pygments_lexer": "ipython3",
   "version": "3.6.9"
  }
 },
 "nbformat": 4,
 "nbformat_minor": 2
}
